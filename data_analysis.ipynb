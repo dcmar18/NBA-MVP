{
 "cells": [
  {
   "cell_type": "code",
   "execution_count": 125,
   "metadata": {},
   "outputs": [],
   "source": [
    "#Import packages\n",
    "import numpy as np\n",
    "import pandas as pd\n",
    "import matplotlib.pyplot as plt\n",
    "import seaborn as sns\n",
    "import tensorflow as tf\n",
    "from sklearn.ensemble import RandomForestClassifier\n",
    "from sklearn.model_selection import train_test_split\n",
    "from sklearn.linear_model import LogisticRegression\n",
    "from sklearn.preprocessing import StandardScaler\n",
    "from sklearn.metrics import balanced_accuracy_score\n",
    "from sklearn.metrics import classification_report\n",
    "from sklearn.metrics import confusion_matrix\n",
    "from tensorflow.keras.layers import Dense\n",
    "from tensorflow.keras.models import Sequential"
   ]
  },
  {
   "cell_type": "code",
   "execution_count": 126,
   "metadata": {},
   "outputs": [
    {
     "data": {
      "text/html": [
       "<div>\n",
       "<style scoped>\n",
       "    .dataframe tbody tr th:only-of-type {\n",
       "        vertical-align: middle;\n",
       "    }\n",
       "\n",
       "    .dataframe tbody tr th {\n",
       "        vertical-align: top;\n",
       "    }\n",
       "\n",
       "    .dataframe thead th {\n",
       "        text-align: right;\n",
       "    }\n",
       "</style>\n",
       "<table border=\"1\" class=\"dataframe\">\n",
       "  <thead>\n",
       "    <tr style=\"text-align: right;\">\n",
       "      <th></th>\n",
       "      <th>Unnamed: 0</th>\n",
       "      <th>Year</th>\n",
       "      <th>Player</th>\n",
       "      <th>Pos</th>\n",
       "      <th>Age</th>\n",
       "      <th>Tm</th>\n",
       "      <th>G</th>\n",
       "      <th>GS</th>\n",
       "      <th>MP</th>\n",
       "      <th>PER</th>\n",
       "      <th>...</th>\n",
       "      <th>FT%</th>\n",
       "      <th>ORB</th>\n",
       "      <th>DRB</th>\n",
       "      <th>TRB</th>\n",
       "      <th>AST</th>\n",
       "      <th>STL</th>\n",
       "      <th>BLK</th>\n",
       "      <th>TOV</th>\n",
       "      <th>PF</th>\n",
       "      <th>PTS</th>\n",
       "    </tr>\n",
       "  </thead>\n",
       "  <tbody>\n",
       "    <tr>\n",
       "      <th>0</th>\n",
       "      <td>0</td>\n",
       "      <td>1950.0</td>\n",
       "      <td>Curly Armstrong</td>\n",
       "      <td>G-F</td>\n",
       "      <td>31.0</td>\n",
       "      <td>FTW</td>\n",
       "      <td>63.0</td>\n",
       "      <td>NaN</td>\n",
       "      <td>NaN</td>\n",
       "      <td>NaN</td>\n",
       "      <td>...</td>\n",
       "      <td>0.705</td>\n",
       "      <td>NaN</td>\n",
       "      <td>NaN</td>\n",
       "      <td>NaN</td>\n",
       "      <td>176.0</td>\n",
       "      <td>NaN</td>\n",
       "      <td>NaN</td>\n",
       "      <td>NaN</td>\n",
       "      <td>217.0</td>\n",
       "      <td>458.0</td>\n",
       "    </tr>\n",
       "    <tr>\n",
       "      <th>1</th>\n",
       "      <td>1</td>\n",
       "      <td>1950.0</td>\n",
       "      <td>Cliff Barker</td>\n",
       "      <td>SG</td>\n",
       "      <td>29.0</td>\n",
       "      <td>INO</td>\n",
       "      <td>49.0</td>\n",
       "      <td>NaN</td>\n",
       "      <td>NaN</td>\n",
       "      <td>NaN</td>\n",
       "      <td>...</td>\n",
       "      <td>0.708</td>\n",
       "      <td>NaN</td>\n",
       "      <td>NaN</td>\n",
       "      <td>NaN</td>\n",
       "      <td>109.0</td>\n",
       "      <td>NaN</td>\n",
       "      <td>NaN</td>\n",
       "      <td>NaN</td>\n",
       "      <td>99.0</td>\n",
       "      <td>279.0</td>\n",
       "    </tr>\n",
       "    <tr>\n",
       "      <th>2</th>\n",
       "      <td>2</td>\n",
       "      <td>1950.0</td>\n",
       "      <td>Leo Barnhorst</td>\n",
       "      <td>SF</td>\n",
       "      <td>25.0</td>\n",
       "      <td>CHS</td>\n",
       "      <td>67.0</td>\n",
       "      <td>NaN</td>\n",
       "      <td>NaN</td>\n",
       "      <td>NaN</td>\n",
       "      <td>...</td>\n",
       "      <td>0.698</td>\n",
       "      <td>NaN</td>\n",
       "      <td>NaN</td>\n",
       "      <td>NaN</td>\n",
       "      <td>140.0</td>\n",
       "      <td>NaN</td>\n",
       "      <td>NaN</td>\n",
       "      <td>NaN</td>\n",
       "      <td>192.0</td>\n",
       "      <td>438.0</td>\n",
       "    </tr>\n",
       "    <tr>\n",
       "      <th>3</th>\n",
       "      <td>3</td>\n",
       "      <td>1950.0</td>\n",
       "      <td>Ed Bartels</td>\n",
       "      <td>F</td>\n",
       "      <td>24.0</td>\n",
       "      <td>TOT</td>\n",
       "      <td>15.0</td>\n",
       "      <td>NaN</td>\n",
       "      <td>NaN</td>\n",
       "      <td>NaN</td>\n",
       "      <td>...</td>\n",
       "      <td>0.559</td>\n",
       "      <td>NaN</td>\n",
       "      <td>NaN</td>\n",
       "      <td>NaN</td>\n",
       "      <td>20.0</td>\n",
       "      <td>NaN</td>\n",
       "      <td>NaN</td>\n",
       "      <td>NaN</td>\n",
       "      <td>29.0</td>\n",
       "      <td>63.0</td>\n",
       "    </tr>\n",
       "    <tr>\n",
       "      <th>4</th>\n",
       "      <td>4</td>\n",
       "      <td>1950.0</td>\n",
       "      <td>Ed Bartels</td>\n",
       "      <td>F</td>\n",
       "      <td>24.0</td>\n",
       "      <td>DNN</td>\n",
       "      <td>13.0</td>\n",
       "      <td>NaN</td>\n",
       "      <td>NaN</td>\n",
       "      <td>NaN</td>\n",
       "      <td>...</td>\n",
       "      <td>0.548</td>\n",
       "      <td>NaN</td>\n",
       "      <td>NaN</td>\n",
       "      <td>NaN</td>\n",
       "      <td>20.0</td>\n",
       "      <td>NaN</td>\n",
       "      <td>NaN</td>\n",
       "      <td>NaN</td>\n",
       "      <td>27.0</td>\n",
       "      <td>59.0</td>\n",
       "    </tr>\n",
       "    <tr>\n",
       "      <th>...</th>\n",
       "      <td>...</td>\n",
       "      <td>...</td>\n",
       "      <td>...</td>\n",
       "      <td>...</td>\n",
       "      <td>...</td>\n",
       "      <td>...</td>\n",
       "      <td>...</td>\n",
       "      <td>...</td>\n",
       "      <td>...</td>\n",
       "      <td>...</td>\n",
       "      <td>...</td>\n",
       "      <td>...</td>\n",
       "      <td>...</td>\n",
       "      <td>...</td>\n",
       "      <td>...</td>\n",
       "      <td>...</td>\n",
       "      <td>...</td>\n",
       "      <td>...</td>\n",
       "      <td>...</td>\n",
       "      <td>...</td>\n",
       "      <td>...</td>\n",
       "    </tr>\n",
       "    <tr>\n",
       "      <th>24686</th>\n",
       "      <td>24686</td>\n",
       "      <td>2017.0</td>\n",
       "      <td>Cody Zeller</td>\n",
       "      <td>PF</td>\n",
       "      <td>24.0</td>\n",
       "      <td>CHO</td>\n",
       "      <td>62.0</td>\n",
       "      <td>58.0</td>\n",
       "      <td>1725.0</td>\n",
       "      <td>16.7</td>\n",
       "      <td>...</td>\n",
       "      <td>0.679</td>\n",
       "      <td>135.0</td>\n",
       "      <td>270.0</td>\n",
       "      <td>405.0</td>\n",
       "      <td>99.0</td>\n",
       "      <td>62.0</td>\n",
       "      <td>58.0</td>\n",
       "      <td>65.0</td>\n",
       "      <td>189.0</td>\n",
       "      <td>639.0</td>\n",
       "    </tr>\n",
       "    <tr>\n",
       "      <th>24687</th>\n",
       "      <td>24687</td>\n",
       "      <td>2017.0</td>\n",
       "      <td>Tyler Zeller</td>\n",
       "      <td>C</td>\n",
       "      <td>27.0</td>\n",
       "      <td>BOS</td>\n",
       "      <td>51.0</td>\n",
       "      <td>5.0</td>\n",
       "      <td>525.0</td>\n",
       "      <td>13.0</td>\n",
       "      <td>...</td>\n",
       "      <td>0.564</td>\n",
       "      <td>43.0</td>\n",
       "      <td>81.0</td>\n",
       "      <td>124.0</td>\n",
       "      <td>42.0</td>\n",
       "      <td>7.0</td>\n",
       "      <td>21.0</td>\n",
       "      <td>20.0</td>\n",
       "      <td>61.0</td>\n",
       "      <td>178.0</td>\n",
       "    </tr>\n",
       "    <tr>\n",
       "      <th>24688</th>\n",
       "      <td>24688</td>\n",
       "      <td>2017.0</td>\n",
       "      <td>Stephen Zimmerman</td>\n",
       "      <td>C</td>\n",
       "      <td>20.0</td>\n",
       "      <td>ORL</td>\n",
       "      <td>19.0</td>\n",
       "      <td>0.0</td>\n",
       "      <td>108.0</td>\n",
       "      <td>7.3</td>\n",
       "      <td>...</td>\n",
       "      <td>0.600</td>\n",
       "      <td>11.0</td>\n",
       "      <td>24.0</td>\n",
       "      <td>35.0</td>\n",
       "      <td>4.0</td>\n",
       "      <td>2.0</td>\n",
       "      <td>5.0</td>\n",
       "      <td>3.0</td>\n",
       "      <td>17.0</td>\n",
       "      <td>23.0</td>\n",
       "    </tr>\n",
       "    <tr>\n",
       "      <th>24689</th>\n",
       "      <td>24689</td>\n",
       "      <td>2017.0</td>\n",
       "      <td>Paul Zipser</td>\n",
       "      <td>SF</td>\n",
       "      <td>22.0</td>\n",
       "      <td>CHI</td>\n",
       "      <td>44.0</td>\n",
       "      <td>18.0</td>\n",
       "      <td>843.0</td>\n",
       "      <td>6.9</td>\n",
       "      <td>...</td>\n",
       "      <td>0.775</td>\n",
       "      <td>15.0</td>\n",
       "      <td>110.0</td>\n",
       "      <td>125.0</td>\n",
       "      <td>36.0</td>\n",
       "      <td>15.0</td>\n",
       "      <td>16.0</td>\n",
       "      <td>40.0</td>\n",
       "      <td>78.0</td>\n",
       "      <td>240.0</td>\n",
       "    </tr>\n",
       "    <tr>\n",
       "      <th>24690</th>\n",
       "      <td>24690</td>\n",
       "      <td>2017.0</td>\n",
       "      <td>Ivica Zubac</td>\n",
       "      <td>C</td>\n",
       "      <td>19.0</td>\n",
       "      <td>LAL</td>\n",
       "      <td>38.0</td>\n",
       "      <td>11.0</td>\n",
       "      <td>609.0</td>\n",
       "      <td>17.0</td>\n",
       "      <td>...</td>\n",
       "      <td>0.653</td>\n",
       "      <td>41.0</td>\n",
       "      <td>118.0</td>\n",
       "      <td>159.0</td>\n",
       "      <td>30.0</td>\n",
       "      <td>14.0</td>\n",
       "      <td>33.0</td>\n",
       "      <td>30.0</td>\n",
       "      <td>66.0</td>\n",
       "      <td>284.0</td>\n",
       "    </tr>\n",
       "  </tbody>\n",
       "</table>\n",
       "<p>24691 rows × 53 columns</p>\n",
       "</div>"
      ],
      "text/plain": [
       "       Unnamed: 0    Year             Player  Pos   Age   Tm     G    GS  \\\n",
       "0               0  1950.0    Curly Armstrong  G-F  31.0  FTW  63.0   NaN   \n",
       "1               1  1950.0       Cliff Barker   SG  29.0  INO  49.0   NaN   \n",
       "2               2  1950.0      Leo Barnhorst   SF  25.0  CHS  67.0   NaN   \n",
       "3               3  1950.0         Ed Bartels    F  24.0  TOT  15.0   NaN   \n",
       "4               4  1950.0         Ed Bartels    F  24.0  DNN  13.0   NaN   \n",
       "...           ...     ...                ...  ...   ...  ...   ...   ...   \n",
       "24686       24686  2017.0        Cody Zeller   PF  24.0  CHO  62.0  58.0   \n",
       "24687       24687  2017.0       Tyler Zeller    C  27.0  BOS  51.0   5.0   \n",
       "24688       24688  2017.0  Stephen Zimmerman    C  20.0  ORL  19.0   0.0   \n",
       "24689       24689  2017.0        Paul Zipser   SF  22.0  CHI  44.0  18.0   \n",
       "24690       24690  2017.0        Ivica Zubac    C  19.0  LAL  38.0  11.0   \n",
       "\n",
       "           MP   PER  ...    FT%    ORB    DRB    TRB    AST   STL   BLK   TOV  \\\n",
       "0         NaN   NaN  ...  0.705    NaN    NaN    NaN  176.0   NaN   NaN   NaN   \n",
       "1         NaN   NaN  ...  0.708    NaN    NaN    NaN  109.0   NaN   NaN   NaN   \n",
       "2         NaN   NaN  ...  0.698    NaN    NaN    NaN  140.0   NaN   NaN   NaN   \n",
       "3         NaN   NaN  ...  0.559    NaN    NaN    NaN   20.0   NaN   NaN   NaN   \n",
       "4         NaN   NaN  ...  0.548    NaN    NaN    NaN   20.0   NaN   NaN   NaN   \n",
       "...       ...   ...  ...    ...    ...    ...    ...    ...   ...   ...   ...   \n",
       "24686  1725.0  16.7  ...  0.679  135.0  270.0  405.0   99.0  62.0  58.0  65.0   \n",
       "24687   525.0  13.0  ...  0.564   43.0   81.0  124.0   42.0   7.0  21.0  20.0   \n",
       "24688   108.0   7.3  ...  0.600   11.0   24.0   35.0    4.0   2.0   5.0   3.0   \n",
       "24689   843.0   6.9  ...  0.775   15.0  110.0  125.0   36.0  15.0  16.0  40.0   \n",
       "24690   609.0  17.0  ...  0.653   41.0  118.0  159.0   30.0  14.0  33.0  30.0   \n",
       "\n",
       "          PF    PTS  \n",
       "0      217.0  458.0  \n",
       "1       99.0  279.0  \n",
       "2      192.0  438.0  \n",
       "3       29.0   63.0  \n",
       "4       27.0   59.0  \n",
       "...      ...    ...  \n",
       "24686  189.0  639.0  \n",
       "24687   61.0  178.0  \n",
       "24688   17.0   23.0  \n",
       "24689   78.0  240.0  \n",
       "24690   66.0  284.0  \n",
       "\n",
       "[24691 rows x 53 columns]"
      ]
     },
     "execution_count": 126,
     "metadata": {},
     "output_type": "execute_result"
    }
   ],
   "source": [
    "#Read in CSV\n",
    "stats_df = pd.read_csv('seasons_stats.csv')\n",
    "stats_df"
   ]
  },
  {
   "cell_type": "code",
   "execution_count": 127,
   "metadata": {},
   "outputs": [],
   "source": [
    "#Add MVP column\n",
    "stats_df['MVP'] = \"0\"\n",
    "\n",
    "#Drop player stats prior to 1980. Drop rows with Tm as TOT.Drop empty rows\n",
    "stats_df=stats_df[(stats_df[\"Year\"]>=1980) & (stats_df[\"Tm\"]!=\"TOT\") & (stats_df[\"Year\"]!= \"\")]\n",
    "\n",
    "#Drop unnnecessary columns\n",
    "stats_df=stats_df.drop(columns=['Unnamed: 0', 'blanl', 'blank2'])\n",
    "\n",
    "#Convert all NaN to zero\n",
    "stats_df = stats_df.fillna(0)"
   ]
  },
  {
   "cell_type": "code",
   "execution_count": 128,
   "metadata": {},
   "outputs": [
    {
     "data": {
      "text/html": [
       "<div>\n",
       "<style scoped>\n",
       "    .dataframe tbody tr th:only-of-type {\n",
       "        vertical-align: middle;\n",
       "    }\n",
       "\n",
       "    .dataframe tbody tr th {\n",
       "        vertical-align: top;\n",
       "    }\n",
       "\n",
       "    .dataframe thead th {\n",
       "        text-align: right;\n",
       "    }\n",
       "</style>\n",
       "<table border=\"1\" class=\"dataframe\">\n",
       "  <thead>\n",
       "    <tr style=\"text-align: right;\">\n",
       "      <th></th>\n",
       "      <th>Year</th>\n",
       "      <th>Player</th>\n",
       "      <th>Pos</th>\n",
       "      <th>Age</th>\n",
       "      <th>Tm</th>\n",
       "      <th>G</th>\n",
       "      <th>GS</th>\n",
       "      <th>MP</th>\n",
       "      <th>PER</th>\n",
       "      <th>TS%</th>\n",
       "      <th>...</th>\n",
       "      <th>ORB</th>\n",
       "      <th>DRB</th>\n",
       "      <th>TRB</th>\n",
       "      <th>AST</th>\n",
       "      <th>STL</th>\n",
       "      <th>BLK</th>\n",
       "      <th>TOV</th>\n",
       "      <th>PF</th>\n",
       "      <th>PTS</th>\n",
       "      <th>MVP</th>\n",
       "    </tr>\n",
       "  </thead>\n",
       "  <tbody>\n",
       "    <tr>\n",
       "      <th>5727</th>\n",
       "      <td>1980.0</td>\n",
       "      <td>Kareem Abdul-Jabbar*</td>\n",
       "      <td>C</td>\n",
       "      <td>32.0</td>\n",
       "      <td>LAL</td>\n",
       "      <td>82.0</td>\n",
       "      <td>0.0</td>\n",
       "      <td>3143.0</td>\n",
       "      <td>25.3</td>\n",
       "      <td>0.639</td>\n",
       "      <td>...</td>\n",
       "      <td>190.0</td>\n",
       "      <td>696.0</td>\n",
       "      <td>886.0</td>\n",
       "      <td>371.0</td>\n",
       "      <td>81.0</td>\n",
       "      <td>280.0</td>\n",
       "      <td>297.0</td>\n",
       "      <td>216.0</td>\n",
       "      <td>2034.0</td>\n",
       "      <td>0</td>\n",
       "    </tr>\n",
       "    <tr>\n",
       "      <th>5728</th>\n",
       "      <td>1980.0</td>\n",
       "      <td>Tom Abernethy</td>\n",
       "      <td>PF</td>\n",
       "      <td>25.0</td>\n",
       "      <td>GSW</td>\n",
       "      <td>67.0</td>\n",
       "      <td>0.0</td>\n",
       "      <td>1222.0</td>\n",
       "      <td>11.0</td>\n",
       "      <td>0.511</td>\n",
       "      <td>...</td>\n",
       "      <td>62.0</td>\n",
       "      <td>129.0</td>\n",
       "      <td>191.0</td>\n",
       "      <td>87.0</td>\n",
       "      <td>35.0</td>\n",
       "      <td>12.0</td>\n",
       "      <td>39.0</td>\n",
       "      <td>118.0</td>\n",
       "      <td>362.0</td>\n",
       "      <td>0</td>\n",
       "    </tr>\n",
       "    <tr>\n",
       "      <th>5729</th>\n",
       "      <td>1980.0</td>\n",
       "      <td>Alvan Adams</td>\n",
       "      <td>C</td>\n",
       "      <td>25.0</td>\n",
       "      <td>PHO</td>\n",
       "      <td>75.0</td>\n",
       "      <td>0.0</td>\n",
       "      <td>2168.0</td>\n",
       "      <td>19.2</td>\n",
       "      <td>0.571</td>\n",
       "      <td>...</td>\n",
       "      <td>158.0</td>\n",
       "      <td>451.0</td>\n",
       "      <td>609.0</td>\n",
       "      <td>322.0</td>\n",
       "      <td>108.0</td>\n",
       "      <td>55.0</td>\n",
       "      <td>218.0</td>\n",
       "      <td>237.0</td>\n",
       "      <td>1118.0</td>\n",
       "      <td>0</td>\n",
       "    </tr>\n",
       "    <tr>\n",
       "      <th>5730</th>\n",
       "      <td>1980.0</td>\n",
       "      <td>Tiny Archibald*</td>\n",
       "      <td>PG</td>\n",
       "      <td>31.0</td>\n",
       "      <td>BOS</td>\n",
       "      <td>80.0</td>\n",
       "      <td>80.0</td>\n",
       "      <td>2864.0</td>\n",
       "      <td>15.3</td>\n",
       "      <td>0.574</td>\n",
       "      <td>...</td>\n",
       "      <td>59.0</td>\n",
       "      <td>138.0</td>\n",
       "      <td>197.0</td>\n",
       "      <td>671.0</td>\n",
       "      <td>106.0</td>\n",
       "      <td>10.0</td>\n",
       "      <td>242.0</td>\n",
       "      <td>218.0</td>\n",
       "      <td>1131.0</td>\n",
       "      <td>0</td>\n",
       "    </tr>\n",
       "    <tr>\n",
       "      <th>5731</th>\n",
       "      <td>1980.0</td>\n",
       "      <td>Dennis Awtrey</td>\n",
       "      <td>C</td>\n",
       "      <td>31.0</td>\n",
       "      <td>CHI</td>\n",
       "      <td>26.0</td>\n",
       "      <td>0.0</td>\n",
       "      <td>560.0</td>\n",
       "      <td>7.4</td>\n",
       "      <td>0.524</td>\n",
       "      <td>...</td>\n",
       "      <td>29.0</td>\n",
       "      <td>86.0</td>\n",
       "      <td>115.0</td>\n",
       "      <td>40.0</td>\n",
       "      <td>12.0</td>\n",
       "      <td>15.0</td>\n",
       "      <td>27.0</td>\n",
       "      <td>66.0</td>\n",
       "      <td>86.0</td>\n",
       "      <td>0</td>\n",
       "    </tr>\n",
       "    <tr>\n",
       "      <th>...</th>\n",
       "      <td>...</td>\n",
       "      <td>...</td>\n",
       "      <td>...</td>\n",
       "      <td>...</td>\n",
       "      <td>...</td>\n",
       "      <td>...</td>\n",
       "      <td>...</td>\n",
       "      <td>...</td>\n",
       "      <td>...</td>\n",
       "      <td>...</td>\n",
       "      <td>...</td>\n",
       "      <td>...</td>\n",
       "      <td>...</td>\n",
       "      <td>...</td>\n",
       "      <td>...</td>\n",
       "      <td>...</td>\n",
       "      <td>...</td>\n",
       "      <td>...</td>\n",
       "      <td>...</td>\n",
       "      <td>...</td>\n",
       "      <td>...</td>\n",
       "    </tr>\n",
       "    <tr>\n",
       "      <th>24686</th>\n",
       "      <td>2017.0</td>\n",
       "      <td>Cody Zeller</td>\n",
       "      <td>PF</td>\n",
       "      <td>24.0</td>\n",
       "      <td>CHO</td>\n",
       "      <td>62.0</td>\n",
       "      <td>58.0</td>\n",
       "      <td>1725.0</td>\n",
       "      <td>16.7</td>\n",
       "      <td>0.604</td>\n",
       "      <td>...</td>\n",
       "      <td>135.0</td>\n",
       "      <td>270.0</td>\n",
       "      <td>405.0</td>\n",
       "      <td>99.0</td>\n",
       "      <td>62.0</td>\n",
       "      <td>58.0</td>\n",
       "      <td>65.0</td>\n",
       "      <td>189.0</td>\n",
       "      <td>639.0</td>\n",
       "      <td>0</td>\n",
       "    </tr>\n",
       "    <tr>\n",
       "      <th>24687</th>\n",
       "      <td>2017.0</td>\n",
       "      <td>Tyler Zeller</td>\n",
       "      <td>C</td>\n",
       "      <td>27.0</td>\n",
       "      <td>BOS</td>\n",
       "      <td>51.0</td>\n",
       "      <td>5.0</td>\n",
       "      <td>525.0</td>\n",
       "      <td>13.0</td>\n",
       "      <td>0.508</td>\n",
       "      <td>...</td>\n",
       "      <td>43.0</td>\n",
       "      <td>81.0</td>\n",
       "      <td>124.0</td>\n",
       "      <td>42.0</td>\n",
       "      <td>7.0</td>\n",
       "      <td>21.0</td>\n",
       "      <td>20.0</td>\n",
       "      <td>61.0</td>\n",
       "      <td>178.0</td>\n",
       "      <td>0</td>\n",
       "    </tr>\n",
       "    <tr>\n",
       "      <th>24688</th>\n",
       "      <td>2017.0</td>\n",
       "      <td>Stephen Zimmerman</td>\n",
       "      <td>C</td>\n",
       "      <td>20.0</td>\n",
       "      <td>ORL</td>\n",
       "      <td>19.0</td>\n",
       "      <td>0.0</td>\n",
       "      <td>108.0</td>\n",
       "      <td>7.3</td>\n",
       "      <td>0.346</td>\n",
       "      <td>...</td>\n",
       "      <td>11.0</td>\n",
       "      <td>24.0</td>\n",
       "      <td>35.0</td>\n",
       "      <td>4.0</td>\n",
       "      <td>2.0</td>\n",
       "      <td>5.0</td>\n",
       "      <td>3.0</td>\n",
       "      <td>17.0</td>\n",
       "      <td>23.0</td>\n",
       "      <td>0</td>\n",
       "    </tr>\n",
       "    <tr>\n",
       "      <th>24689</th>\n",
       "      <td>2017.0</td>\n",
       "      <td>Paul Zipser</td>\n",
       "      <td>SF</td>\n",
       "      <td>22.0</td>\n",
       "      <td>CHI</td>\n",
       "      <td>44.0</td>\n",
       "      <td>18.0</td>\n",
       "      <td>843.0</td>\n",
       "      <td>6.9</td>\n",
       "      <td>0.503</td>\n",
       "      <td>...</td>\n",
       "      <td>15.0</td>\n",
       "      <td>110.0</td>\n",
       "      <td>125.0</td>\n",
       "      <td>36.0</td>\n",
       "      <td>15.0</td>\n",
       "      <td>16.0</td>\n",
       "      <td>40.0</td>\n",
       "      <td>78.0</td>\n",
       "      <td>240.0</td>\n",
       "      <td>0</td>\n",
       "    </tr>\n",
       "    <tr>\n",
       "      <th>24690</th>\n",
       "      <td>2017.0</td>\n",
       "      <td>Ivica Zubac</td>\n",
       "      <td>C</td>\n",
       "      <td>19.0</td>\n",
       "      <td>LAL</td>\n",
       "      <td>38.0</td>\n",
       "      <td>11.0</td>\n",
       "      <td>609.0</td>\n",
       "      <td>17.0</td>\n",
       "      <td>0.547</td>\n",
       "      <td>...</td>\n",
       "      <td>41.0</td>\n",
       "      <td>118.0</td>\n",
       "      <td>159.0</td>\n",
       "      <td>30.0</td>\n",
       "      <td>14.0</td>\n",
       "      <td>33.0</td>\n",
       "      <td>30.0</td>\n",
       "      <td>66.0</td>\n",
       "      <td>284.0</td>\n",
       "      <td>0</td>\n",
       "    </tr>\n",
       "  </tbody>\n",
       "</table>\n",
       "<p>17291 rows × 51 columns</p>\n",
       "</div>"
      ],
      "text/plain": [
       "         Year                Player Pos   Age   Tm     G    GS      MP   PER  \\\n",
       "5727   1980.0  Kareem Abdul-Jabbar*   C  32.0  LAL  82.0   0.0  3143.0  25.3   \n",
       "5728   1980.0         Tom Abernethy  PF  25.0  GSW  67.0   0.0  1222.0  11.0   \n",
       "5729   1980.0           Alvan Adams   C  25.0  PHO  75.0   0.0  2168.0  19.2   \n",
       "5730   1980.0       Tiny Archibald*  PG  31.0  BOS  80.0  80.0  2864.0  15.3   \n",
       "5731   1980.0         Dennis Awtrey   C  31.0  CHI  26.0   0.0   560.0   7.4   \n",
       "...       ...                   ...  ..   ...  ...   ...   ...     ...   ...   \n",
       "24686  2017.0           Cody Zeller  PF  24.0  CHO  62.0  58.0  1725.0  16.7   \n",
       "24687  2017.0          Tyler Zeller   C  27.0  BOS  51.0   5.0   525.0  13.0   \n",
       "24688  2017.0     Stephen Zimmerman   C  20.0  ORL  19.0   0.0   108.0   7.3   \n",
       "24689  2017.0           Paul Zipser  SF  22.0  CHI  44.0  18.0   843.0   6.9   \n",
       "24690  2017.0           Ivica Zubac   C  19.0  LAL  38.0  11.0   609.0  17.0   \n",
       "\n",
       "         TS%  ...    ORB    DRB    TRB    AST    STL    BLK    TOV     PF  \\\n",
       "5727   0.639  ...  190.0  696.0  886.0  371.0   81.0  280.0  297.0  216.0   \n",
       "5728   0.511  ...   62.0  129.0  191.0   87.0   35.0   12.0   39.0  118.0   \n",
       "5729   0.571  ...  158.0  451.0  609.0  322.0  108.0   55.0  218.0  237.0   \n",
       "5730   0.574  ...   59.0  138.0  197.0  671.0  106.0   10.0  242.0  218.0   \n",
       "5731   0.524  ...   29.0   86.0  115.0   40.0   12.0   15.0   27.0   66.0   \n",
       "...      ...  ...    ...    ...    ...    ...    ...    ...    ...    ...   \n",
       "24686  0.604  ...  135.0  270.0  405.0   99.0   62.0   58.0   65.0  189.0   \n",
       "24687  0.508  ...   43.0   81.0  124.0   42.0    7.0   21.0   20.0   61.0   \n",
       "24688  0.346  ...   11.0   24.0   35.0    4.0    2.0    5.0    3.0   17.0   \n",
       "24689  0.503  ...   15.0  110.0  125.0   36.0   15.0   16.0   40.0   78.0   \n",
       "24690  0.547  ...   41.0  118.0  159.0   30.0   14.0   33.0   30.0   66.0   \n",
       "\n",
       "          PTS  MVP  \n",
       "5727   2034.0    0  \n",
       "5728    362.0    0  \n",
       "5729   1118.0    0  \n",
       "5730   1131.0    0  \n",
       "5731     86.0    0  \n",
       "...       ...  ...  \n",
       "24686   639.0    0  \n",
       "24687   178.0    0  \n",
       "24688    23.0    0  \n",
       "24689   240.0    0  \n",
       "24690   284.0    0  \n",
       "\n",
       "[17291 rows x 51 columns]"
      ]
     },
     "execution_count": 128,
     "metadata": {},
     "output_type": "execute_result"
    }
   ],
   "source": [
    "stats_df"
   ]
  },
  {
   "cell_type": "code",
   "execution_count": 129,
   "metadata": {},
   "outputs": [],
   "source": [
    "#Add MVP winners\n",
    "\n",
    "#1979-1980 Kareem Abdul-Jabbar\n",
    "stats_df.at[5727, 'MVP']= 1\n",
    "#1980-1981 Julius Erving\n",
    "stats_df.at[6179, 'MVP']= 1\n",
    "#1981-1982 Moses Malone\n",
    "stats_df.at[6672, 'MVP']= 1\n",
    "#1982-1983 Moses Malone\n",
    "stats_df.at[7045, 'MVP']= 1\n",
    "#1983-1984 Larry Bird\n",
    "stats_df.at[7230, 'MVP']= 1\n",
    "#1984-1985 Larry Bird\n",
    "stats_df.at[7574, 'MVP']= 1\n",
    "#1985-1986 Larry Bird\n",
    "stats_df.at[7940, 'MVP']= 1\n",
    "#1986-1987 Magic Johnson\n",
    "stats_df.at[8459, 'MVP']= 1\n",
    "#1987-1988 Michael Jordan\n",
    "stats_df.at[8869, 'MVP']= 1\n",
    "#1988-1989 Magic Johnson\n",
    "stats_df.at[9283, 'MVP']= 1\n",
    "#1989-1990 Magic Johnson\n",
    "stats_df.at[9735, 'MVP']= 1\n",
    "#1990-1991 Michael Jordan\n",
    "stats_df.at[10212, 'MVP']= 1\n",
    "#1991-1992 Michael Jordan\n",
    "stats_df.at[10666, 'MVP']= 1\n",
    "#1992-1993 Charles Barkley\n",
    "stats_df.at[10937, 'MVP']= 1\n",
    "#1993-1994 Hakeem Olajuwon\n",
    "stats_df.at[11688, 'MVP']= 1\n",
    "#1994-1995 David Robinson\n",
    "stats_df.at[12182, 'MVP']= 1\n",
    "#1995-1996 Michael Jordan\n",
    "stats_df.at[12528, 'MVP']= 1\n",
    "#1996-1997 Karl Malone\n",
    "stats_df.at[13143, 'MVP']= 1\n",
    "#1997-1998 Michael Jordan\n",
    "stats_df.at[13654, 'MVP']= 1\n",
    "#1998-1999 Karl Malone SHORTENED LOCKOUT SEASON\n",
    "stats_df.at[14236, 'MVP']= 1\n",
    "#1999-2000 Shaquille O'Neal\n",
    "stats_df.at[14806, 'MVP']= 1\n",
    "#2000-2001 Allen Iverson\n",
    "stats_df.at[15186, 'MVP']= 1\n",
    "#2001-2002 Tim Duncan\n",
    "stats_df.at[15643, 'MVP']= 1\n",
    "#2002-2003 Tim Duncan\n",
    "stats_df.at[16129, 'MVP']= 1\n",
    "#2003-2004 Kevin Garnett\n",
    "stats_df.at[16674, 'MVP']= 1\n",
    "#2004-2005 Steve Nash\n",
    "stats_df.at[17452, 'MVP']= 1\n",
    "#2005-2006 Steve Nash\n",
    "stats_df.at[18020, 'MVP']= 1\n",
    "#2006-2007 Dirk Nowitzki\n",
    "stats_df.at[18569, 'MVP']= 1\n",
    "#2007-2008 Kobe Bryant\n",
    "stats_df.at[18825, 'MVP']= 1\n",
    "#2008-2009 LeBron James\n",
    "stats_df.at[19611, 'MVP']= 1\n",
    "#2009-2010 LeBron James\n",
    "stats_df.at[20207, 'MVP']= 1\n",
    "#2010-11 Derrick Rose\n",
    "stats_df.at[20991, 'MVP']= 1\n",
    "#2011-2012 Lebron James\n",
    "stats_df.at[21395, 'MVP']= 1\n",
    "#2012-2013 LeBron James\n",
    "stats_df.at[21933, 'MVP']= 1\n",
    "#2013-2014 Kevin Durant\n",
    "stats_df.at[22438, 'MVP']= 1\n",
    "#2014-2015 Stephen Curry\n",
    "stats_df.at[23000, 'MVP']= 1\n",
    "#2015-2016 Stephen Curry\n",
    "stats_df.at[23633, 'MVP']= 1\n",
    "#2016-2017 Russell Westbrook\n",
    "stats_df.at[24654, 'MVP']= 1"
   ]
  },
  {
   "cell_type": "code",
   "execution_count": 130,
   "metadata": {},
   "outputs": [
    {
     "name": "stdout",
     "output_type": "stream",
     "text": [
      "         Year                Player Pos   Age   Tm     G    GS      MP   PER  \\\n",
      "5727   1980.0  Kareem Abdul-Jabbar*   C  32.0  LAL  82.0   0.0  3143.0  25.3   \n",
      "6179   1981.0        Julius Erving*  SF  30.0  PHI  82.0   0.0  2874.0  25.1   \n",
      "6672   1982.0         Moses Malone*   C  26.0  HOU  81.0  81.0  3398.0  26.8   \n",
      "7045   1983.0         Moses Malone*   C  27.0  PHI  78.0  78.0  2922.0  25.1   \n",
      "7230   1984.0           Larry Bird*  PF  27.0  BOS  79.0  77.0  3028.0  24.2   \n",
      "7574   1985.0           Larry Bird*  SF  28.0  BOS  80.0  77.0  3161.0  26.5   \n",
      "7940   1986.0           Larry Bird*  SF  29.0  BOS  82.0  81.0  3113.0  25.6   \n",
      "8459   1987.0        Magic Johnson*  PG  27.0  LAL  80.0  80.0  2904.0  27.0   \n",
      "8869   1988.0       Michael Jordan*  SG  24.0  CHI  82.0  82.0  3311.0  31.7   \n",
      "9283   1989.0        Magic Johnson*  PG  29.0  LAL  77.0  77.0  2886.0  26.9   \n",
      "9735   1990.0        Magic Johnson*  PG  30.0  LAL  79.0  79.0  2937.0  26.6   \n",
      "10212  1991.0       Michael Jordan*  SG  27.0  CHI  82.0  82.0  3034.0  31.6   \n",
      "10666  1992.0       Michael Jordan*  SG  28.0  CHI  80.0  80.0  3102.0  27.7   \n",
      "10937  1993.0      Charles Barkley*  PF  29.0  PHO  76.0  76.0  2859.0  25.9   \n",
      "11688  1994.0      Hakeem Olajuwon*   C  31.0  HOU  80.0  80.0  3277.0  25.3   \n",
      "12182  1995.0       David Robinson*   C  29.0  SAS  81.0  81.0  3074.0  29.1   \n",
      "12528  1996.0       Michael Jordan*  SG  32.0  CHI  82.0  82.0  3090.0  29.4   \n",
      "13143  1997.0          Karl Malone*  PF  33.0  UTA  82.0  82.0  2998.0  28.9   \n",
      "13654  1998.0       Michael Jordan*  SG  34.0  CHI  82.0  82.0  3181.0  25.2   \n",
      "14236  1999.0          Karl Malone*  PF  35.0  UTA  49.0  49.0  1832.0  25.6   \n",
      "14806  2000.0     Shaquille O'Neal*   C  27.0  LAL  79.0  79.0  3163.0  30.6   \n",
      "15186  2001.0        Allen Iverson*  SG  25.0  PHI  71.0  71.0  2979.0  24.0   \n",
      "15643  2002.0            Tim Duncan  PF  25.0  SAS  82.0  82.0  3329.0  27.0   \n",
      "16129  2003.0            Tim Duncan  PF  26.0  SAS  81.0  81.0  3181.0  26.9   \n",
      "16674  2004.0         Kevin Garnett  PF  27.0  MIN  82.0  82.0  3231.0  29.4   \n",
      "17452  2005.0            Steve Nash  PG  30.0  PHO  75.0  75.0  2573.0  22.0   \n",
      "18020  2006.0            Steve Nash  PG  31.0  PHO  79.0  79.0  2796.0  23.3   \n",
      "18569  2007.0         Dirk Nowitzki  PF  28.0  DAL  78.0  78.0  2820.0  27.6   \n",
      "18825  2008.0           Kobe Bryant  SG  29.0  LAL  82.0  82.0  3192.0  24.2   \n",
      "19611  2009.0          LeBron James  SF  24.0  CLE  81.0  81.0  3054.0  31.7   \n",
      "20207  2010.0          LeBron James  SF  25.0  CLE  76.0  76.0  2966.0  31.1   \n",
      "20991  2011.0          Derrick Rose  PG  22.0  CHI  81.0  81.0  3026.0  23.5   \n",
      "21395  2012.0          LeBron James  SF  27.0  MIA  62.0  62.0  2326.0  30.7   \n",
      "21933  2013.0          LeBron James  PF  28.0  MIA  76.0  76.0  2877.0  31.6   \n",
      "22438  2014.0          Kevin Durant  SF  25.0  OKC  81.0  81.0  3122.0  29.8   \n",
      "23000  2015.0         Stephen Curry  PG  26.0  GSW  80.0  80.0  2613.0  28.0   \n",
      "23633  2016.0         Stephen Curry  PG  27.0  GSW  79.0  79.0  2700.0  31.5   \n",
      "24654  2017.0     Russell Westbrook  PG  28.0  OKC  81.0  81.0  2802.0  30.6   \n",
      "\n",
      "         TS%  ...    ORB    DRB     TRB    AST    STL    BLK    TOV     PF  \\\n",
      "5727   0.639  ...  190.0  696.0   886.0  371.0   81.0  280.0  297.0  216.0   \n",
      "6179   0.572  ...  244.0  413.0   657.0  364.0  173.0  147.0  266.0  233.0   \n",
      "6672   0.576  ...  558.0  630.0  1188.0  142.0   76.0  125.0  294.0  208.0   \n",
      "7045   0.578  ...  445.0  749.0  1194.0  101.0   89.0  157.0  264.0  206.0   \n",
      "7230   0.552  ...  181.0  615.0   796.0  520.0  144.0   69.0  237.0  197.0   \n",
      "7574   0.585  ...  164.0  678.0   842.0  531.0  129.0   98.0  248.0  208.0   \n",
      "7940   0.580  ...  190.0  615.0   805.0  557.0  166.0   51.0  266.0  182.0   \n",
      "8459   0.602  ...  122.0  382.0   504.0  977.0  138.0   36.0  300.0  168.0   \n",
      "8869   0.603  ...  139.0  310.0   449.0  485.0  259.0  131.0  252.0  270.0   \n",
      "9283   0.625  ...  111.0  496.0   607.0  988.0  138.0   22.0  312.0  172.0   \n",
      "9735   0.622  ...  128.0  394.0   522.0  907.0  132.0   34.0  289.0  167.0   \n",
      "10212  0.605  ...  118.0  374.0   492.0  453.0  223.0   83.0  202.0  229.0   \n",
      "10666  0.579  ...   91.0  420.0   511.0  489.0  182.0   75.0  200.0  201.0   \n",
      "10937  0.596  ...  237.0  691.0   928.0  385.0  119.0   74.0  233.0  196.0   \n",
      "11688  0.565  ...  229.0  726.0   955.0  287.0  128.0  297.0  271.0  289.0   \n",
      "12182  0.602  ...  234.0  643.0   877.0  236.0  134.0  262.0  233.0  230.0   \n",
      "12528  0.582  ...  148.0  395.0   543.0  352.0  180.0   42.0  197.0  195.0   \n",
      "13143  0.600  ...  193.0  616.0   809.0  368.0  113.0   48.0  233.0  217.0   \n",
      "13654  0.533  ...  130.0  345.0   475.0  283.0  141.0   45.0  185.0  151.0   \n",
      "14236  0.577  ...  107.0  356.0   463.0  201.0   62.0   28.0  162.0  134.0   \n",
      "14806  0.578  ...  336.0  742.0  1078.0  299.0   36.0  239.0  223.0  255.0   \n",
      "15186  0.518  ...   50.0  223.0   273.0  325.0  178.0   20.0  237.0  147.0   \n",
      "15643  0.576  ...  268.0  774.0  1042.0  307.0   61.0  203.0  263.0  217.0   \n",
      "16129  0.564  ...  259.0  784.0  1043.0  316.0   55.0  237.0  248.0  231.0   \n",
      "16674  0.547  ...  245.0  894.0  1139.0  409.0  120.0  178.0  212.0  202.0   \n",
      "17452  0.606  ...   57.0  192.0   249.0  861.0   74.0    6.0  245.0  136.0   \n",
      "18020  0.632  ...   47.0  286.0   333.0  826.0   61.0   12.0  276.0  120.0   \n",
      "18569  0.605  ...  122.0  571.0   693.0  263.0   52.0   62.0  167.0  171.0   \n",
      "18825  0.576  ...   94.0  423.0   517.0  441.0  151.0   40.0  257.0  227.0   \n",
      "19611  0.591  ...  106.0  507.0   613.0  587.0  137.0   93.0  241.0  139.0   \n",
      "20207  0.604  ...   71.0  483.0   554.0  651.0  125.0   77.0  261.0  119.0   \n",
      "20991  0.550  ...   81.0  249.0   330.0  623.0   85.0   51.0  278.0  136.0   \n",
      "21395  0.605  ...   94.0  398.0   492.0  387.0  115.0   50.0  213.0   96.0   \n",
      "21933  0.640  ...   97.0  513.0   610.0  551.0  129.0   67.0  226.0  110.0   \n",
      "22438  0.635  ...   58.0  540.0   598.0  445.0  103.0   59.0  285.0  174.0   \n",
      "23000  0.638  ...   56.0  285.0   341.0  619.0  163.0   16.0  249.0  158.0   \n",
      "23633  0.669  ...   68.0  362.0   430.0  527.0  169.0   15.0  262.0  161.0   \n",
      "24654  0.554  ...  137.0  727.0   864.0  840.0  133.0   31.0  438.0  190.0   \n",
      "\n",
      "          PTS  MVP  \n",
      "5727   2034.0    1  \n",
      "6179   2014.0    1  \n",
      "6672   2520.0    1  \n",
      "7045   1908.0    1  \n",
      "7230   1908.0    1  \n",
      "7574   2295.0    1  \n",
      "7940   2115.0    1  \n",
      "8459   1909.0    1  \n",
      "8869   2868.0    1  \n",
      "9283   1730.0    1  \n",
      "9735   1765.0    1  \n",
      "10212  2580.0    1  \n",
      "10666  2404.0    1  \n",
      "10937  1944.0    1  \n",
      "11688  2184.0    1  \n",
      "12182  2238.0    1  \n",
      "12528  2491.0    1  \n",
      "13143  2249.0    1  \n",
      "13654  2357.0    1  \n",
      "14236  1164.0    1  \n",
      "14806  2344.0    1  \n",
      "15186  2207.0    1  \n",
      "15643  2089.0    1  \n",
      "16129  1884.0    1  \n",
      "16674  1987.0    1  \n",
      "17452  1165.0    1  \n",
      "18020  1489.0    1  \n",
      "18569  1916.0    1  \n",
      "18825  2323.0    1  \n",
      "19611  2304.0    1  \n",
      "20207  2258.0    1  \n",
      "20991  2026.0    1  \n",
      "21395  1683.0    1  \n",
      "21933  2036.0    1  \n",
      "22438  2593.0    1  \n",
      "23000  1900.0    1  \n",
      "23633  2375.0    1  \n",
      "24654  2558.0    1  \n",
      "\n",
      "[38 rows x 51 columns]\n"
     ]
    }
   ],
   "source": [
    "#Verify MVP Winners\n",
    "print(stats_df.loc[stats_df['MVP'] == 1])"
   ]
  },
  {
   "cell_type": "code",
   "execution_count": 131,
   "metadata": {},
   "outputs": [],
   "source": [
    "#Convert MVP column to float type\n",
    "stats_df[\"MVP\"] = stats_df.MVP.astype(float)"
   ]
  },
  {
   "cell_type": "code",
   "execution_count": 132,
   "metadata": {},
   "outputs": [
    {
     "data": {
      "text/html": [
       "<div>\n",
       "<style scoped>\n",
       "    .dataframe tbody tr th:only-of-type {\n",
       "        vertical-align: middle;\n",
       "    }\n",
       "\n",
       "    .dataframe tbody tr th {\n",
       "        vertical-align: top;\n",
       "    }\n",
       "\n",
       "    .dataframe thead th {\n",
       "        text-align: right;\n",
       "    }\n",
       "</style>\n",
       "<table border=\"1\" class=\"dataframe\">\n",
       "  <thead>\n",
       "    <tr style=\"text-align: right;\">\n",
       "      <th></th>\n",
       "      <th>Year</th>\n",
       "      <th>Player</th>\n",
       "      <th>Pos</th>\n",
       "      <th>Age</th>\n",
       "      <th>Tm</th>\n",
       "      <th>G</th>\n",
       "      <th>GS</th>\n",
       "      <th>MP</th>\n",
       "      <th>PER</th>\n",
       "      <th>TS%</th>\n",
       "      <th>...</th>\n",
       "      <th>ORB</th>\n",
       "      <th>DRB</th>\n",
       "      <th>TRB</th>\n",
       "      <th>AST</th>\n",
       "      <th>STL</th>\n",
       "      <th>BLK</th>\n",
       "      <th>TOV</th>\n",
       "      <th>PF</th>\n",
       "      <th>PTS</th>\n",
       "      <th>MVP</th>\n",
       "    </tr>\n",
       "  </thead>\n",
       "  <tbody>\n",
       "    <tr>\n",
       "      <th>24670</th>\n",
       "      <td>2017.0</td>\n",
       "      <td>Marvin Williams</td>\n",
       "      <td>PF</td>\n",
       "      <td>30.0</td>\n",
       "      <td>CHO</td>\n",
       "      <td>76.0</td>\n",
       "      <td>76.0</td>\n",
       "      <td>2295.0</td>\n",
       "      <td>13.7</td>\n",
       "      <td>0.551</td>\n",
       "      <td>...</td>\n",
       "      <td>89.0</td>\n",
       "      <td>409.0</td>\n",
       "      <td>498.0</td>\n",
       "      <td>106.0</td>\n",
       "      <td>58.0</td>\n",
       "      <td>53.0</td>\n",
       "      <td>60.0</td>\n",
       "      <td>134.0</td>\n",
       "      <td>849.0</td>\n",
       "      <td>0.0</td>\n",
       "    </tr>\n",
       "    <tr>\n",
       "      <th>24671</th>\n",
       "      <td>2017.0</td>\n",
       "      <td>Reggie Williams</td>\n",
       "      <td>SF</td>\n",
       "      <td>30.0</td>\n",
       "      <td>NOP</td>\n",
       "      <td>6.0</td>\n",
       "      <td>0.0</td>\n",
       "      <td>79.0</td>\n",
       "      <td>11.7</td>\n",
       "      <td>0.518</td>\n",
       "      <td>...</td>\n",
       "      <td>2.0</td>\n",
       "      <td>4.0</td>\n",
       "      <td>6.0</td>\n",
       "      <td>4.0</td>\n",
       "      <td>3.0</td>\n",
       "      <td>0.0</td>\n",
       "      <td>0.0</td>\n",
       "      <td>2.0</td>\n",
       "      <td>27.0</td>\n",
       "      <td>0.0</td>\n",
       "    </tr>\n",
       "    <tr>\n",
       "      <th>24673</th>\n",
       "      <td>2017.0</td>\n",
       "      <td>Troy Williams</td>\n",
       "      <td>SF</td>\n",
       "      <td>22.0</td>\n",
       "      <td>MEM</td>\n",
       "      <td>24.0</td>\n",
       "      <td>13.0</td>\n",
       "      <td>418.0</td>\n",
       "      <td>7.6</td>\n",
       "      <td>0.474</td>\n",
       "      <td>...</td>\n",
       "      <td>6.0</td>\n",
       "      <td>39.0</td>\n",
       "      <td>45.0</td>\n",
       "      <td>19.0</td>\n",
       "      <td>24.0</td>\n",
       "      <td>9.0</td>\n",
       "      <td>27.0</td>\n",
       "      <td>42.0</td>\n",
       "      <td>127.0</td>\n",
       "      <td>0.0</td>\n",
       "    </tr>\n",
       "    <tr>\n",
       "      <th>24674</th>\n",
       "      <td>2017.0</td>\n",
       "      <td>Troy Williams</td>\n",
       "      <td>SF</td>\n",
       "      <td>22.0</td>\n",
       "      <td>HOU</td>\n",
       "      <td>6.0</td>\n",
       "      <td>3.0</td>\n",
       "      <td>139.0</td>\n",
       "      <td>12.8</td>\n",
       "      <td>0.616</td>\n",
       "      <td>...</td>\n",
       "      <td>9.0</td>\n",
       "      <td>15.0</td>\n",
       "      <td>24.0</td>\n",
       "      <td>6.0</td>\n",
       "      <td>3.0</td>\n",
       "      <td>1.0</td>\n",
       "      <td>6.0</td>\n",
       "      <td>18.0</td>\n",
       "      <td>58.0</td>\n",
       "      <td>0.0</td>\n",
       "    </tr>\n",
       "    <tr>\n",
       "      <th>24675</th>\n",
       "      <td>2017.0</td>\n",
       "      <td>Kyle Wiltjer</td>\n",
       "      <td>PF</td>\n",
       "      <td>24.0</td>\n",
       "      <td>HOU</td>\n",
       "      <td>14.0</td>\n",
       "      <td>0.0</td>\n",
       "      <td>44.0</td>\n",
       "      <td>6.7</td>\n",
       "      <td>0.437</td>\n",
       "      <td>...</td>\n",
       "      <td>4.0</td>\n",
       "      <td>6.0</td>\n",
       "      <td>10.0</td>\n",
       "      <td>2.0</td>\n",
       "      <td>3.0</td>\n",
       "      <td>1.0</td>\n",
       "      <td>5.0</td>\n",
       "      <td>4.0</td>\n",
       "      <td>13.0</td>\n",
       "      <td>0.0</td>\n",
       "    </tr>\n",
       "    <tr>\n",
       "      <th>24676</th>\n",
       "      <td>2017.0</td>\n",
       "      <td>Justise Winslow</td>\n",
       "      <td>SF</td>\n",
       "      <td>20.0</td>\n",
       "      <td>MIA</td>\n",
       "      <td>18.0</td>\n",
       "      <td>15.0</td>\n",
       "      <td>625.0</td>\n",
       "      <td>8.2</td>\n",
       "      <td>0.399</td>\n",
       "      <td>...</td>\n",
       "      <td>23.0</td>\n",
       "      <td>71.0</td>\n",
       "      <td>94.0</td>\n",
       "      <td>66.0</td>\n",
       "      <td>27.0</td>\n",
       "      <td>6.0</td>\n",
       "      <td>33.0</td>\n",
       "      <td>52.0</td>\n",
       "      <td>196.0</td>\n",
       "      <td>0.0</td>\n",
       "    </tr>\n",
       "    <tr>\n",
       "      <th>24677</th>\n",
       "      <td>2017.0</td>\n",
       "      <td>Jeff Withey</td>\n",
       "      <td>C</td>\n",
       "      <td>26.0</td>\n",
       "      <td>UTA</td>\n",
       "      <td>51.0</td>\n",
       "      <td>1.0</td>\n",
       "      <td>432.0</td>\n",
       "      <td>18.8</td>\n",
       "      <td>0.588</td>\n",
       "      <td>...</td>\n",
       "      <td>52.0</td>\n",
       "      <td>69.0</td>\n",
       "      <td>121.0</td>\n",
       "      <td>7.0</td>\n",
       "      <td>16.0</td>\n",
       "      <td>32.0</td>\n",
       "      <td>14.0</td>\n",
       "      <td>52.0</td>\n",
       "      <td>146.0</td>\n",
       "      <td>0.0</td>\n",
       "    </tr>\n",
       "    <tr>\n",
       "      <th>24678</th>\n",
       "      <td>2017.0</td>\n",
       "      <td>Christian Wood</td>\n",
       "      <td>PF</td>\n",
       "      <td>21.0</td>\n",
       "      <td>CHO</td>\n",
       "      <td>13.0</td>\n",
       "      <td>0.0</td>\n",
       "      <td>107.0</td>\n",
       "      <td>15.1</td>\n",
       "      <td>0.591</td>\n",
       "      <td>...</td>\n",
       "      <td>14.0</td>\n",
       "      <td>15.0</td>\n",
       "      <td>29.0</td>\n",
       "      <td>2.0</td>\n",
       "      <td>3.0</td>\n",
       "      <td>6.0</td>\n",
       "      <td>7.0</td>\n",
       "      <td>11.0</td>\n",
       "      <td>35.0</td>\n",
       "      <td>0.0</td>\n",
       "    </tr>\n",
       "    <tr>\n",
       "      <th>24679</th>\n",
       "      <td>2017.0</td>\n",
       "      <td>Metta World</td>\n",
       "      <td>SF</td>\n",
       "      <td>37.0</td>\n",
       "      <td>LAL</td>\n",
       "      <td>25.0</td>\n",
       "      <td>2.0</td>\n",
       "      <td>160.0</td>\n",
       "      <td>6.2</td>\n",
       "      <td>0.380</td>\n",
       "      <td>...</td>\n",
       "      <td>5.0</td>\n",
       "      <td>15.0</td>\n",
       "      <td>20.0</td>\n",
       "      <td>11.0</td>\n",
       "      <td>9.0</td>\n",
       "      <td>2.0</td>\n",
       "      <td>7.0</td>\n",
       "      <td>18.0</td>\n",
       "      <td>57.0</td>\n",
       "      <td>0.0</td>\n",
       "    </tr>\n",
       "    <tr>\n",
       "      <th>24680</th>\n",
       "      <td>2017.0</td>\n",
       "      <td>Brandan Wright</td>\n",
       "      <td>PF</td>\n",
       "      <td>29.0</td>\n",
       "      <td>MEM</td>\n",
       "      <td>28.0</td>\n",
       "      <td>5.0</td>\n",
       "      <td>447.0</td>\n",
       "      <td>18.5</td>\n",
       "      <td>0.628</td>\n",
       "      <td>...</td>\n",
       "      <td>31.0</td>\n",
       "      <td>47.0</td>\n",
       "      <td>78.0</td>\n",
       "      <td>15.0</td>\n",
       "      <td>11.0</td>\n",
       "      <td>20.0</td>\n",
       "      <td>10.0</td>\n",
       "      <td>42.0</td>\n",
       "      <td>189.0</td>\n",
       "      <td>0.0</td>\n",
       "    </tr>\n",
       "    <tr>\n",
       "      <th>24681</th>\n",
       "      <td>2017.0</td>\n",
       "      <td>Delon Wright</td>\n",
       "      <td>PG</td>\n",
       "      <td>24.0</td>\n",
       "      <td>TOR</td>\n",
       "      <td>27.0</td>\n",
       "      <td>0.0</td>\n",
       "      <td>446.0</td>\n",
       "      <td>15.0</td>\n",
       "      <td>0.535</td>\n",
       "      <td>...</td>\n",
       "      <td>16.0</td>\n",
       "      <td>32.0</td>\n",
       "      <td>48.0</td>\n",
       "      <td>57.0</td>\n",
       "      <td>27.0</td>\n",
       "      <td>11.0</td>\n",
       "      <td>25.0</td>\n",
       "      <td>31.0</td>\n",
       "      <td>150.0</td>\n",
       "      <td>0.0</td>\n",
       "    </tr>\n",
       "    <tr>\n",
       "      <th>24682</th>\n",
       "      <td>2017.0</td>\n",
       "      <td>James Young</td>\n",
       "      <td>SG</td>\n",
       "      <td>21.0</td>\n",
       "      <td>BOS</td>\n",
       "      <td>29.0</td>\n",
       "      <td>0.0</td>\n",
       "      <td>220.0</td>\n",
       "      <td>10.0</td>\n",
       "      <td>0.549</td>\n",
       "      <td>...</td>\n",
       "      <td>6.0</td>\n",
       "      <td>20.0</td>\n",
       "      <td>26.0</td>\n",
       "      <td>4.0</td>\n",
       "      <td>10.0</td>\n",
       "      <td>2.0</td>\n",
       "      <td>4.0</td>\n",
       "      <td>15.0</td>\n",
       "      <td>68.0</td>\n",
       "      <td>0.0</td>\n",
       "    </tr>\n",
       "    <tr>\n",
       "      <th>24683</th>\n",
       "      <td>2017.0</td>\n",
       "      <td>Joe Young</td>\n",
       "      <td>PG</td>\n",
       "      <td>24.0</td>\n",
       "      <td>IND</td>\n",
       "      <td>33.0</td>\n",
       "      <td>0.0</td>\n",
       "      <td>135.0</td>\n",
       "      <td>11.4</td>\n",
       "      <td>0.433</td>\n",
       "      <td>...</td>\n",
       "      <td>1.0</td>\n",
       "      <td>16.0</td>\n",
       "      <td>17.0</td>\n",
       "      <td>15.0</td>\n",
       "      <td>4.0</td>\n",
       "      <td>0.0</td>\n",
       "      <td>5.0</td>\n",
       "      <td>5.0</td>\n",
       "      <td>68.0</td>\n",
       "      <td>0.0</td>\n",
       "    </tr>\n",
       "    <tr>\n",
       "      <th>24684</th>\n",
       "      <td>2017.0</td>\n",
       "      <td>Nick Young</td>\n",
       "      <td>SG</td>\n",
       "      <td>31.0</td>\n",
       "      <td>LAL</td>\n",
       "      <td>60.0</td>\n",
       "      <td>60.0</td>\n",
       "      <td>1556.0</td>\n",
       "      <td>14.1</td>\n",
       "      <td>0.588</td>\n",
       "      <td>...</td>\n",
       "      <td>25.0</td>\n",
       "      <td>112.0</td>\n",
       "      <td>137.0</td>\n",
       "      <td>58.0</td>\n",
       "      <td>37.0</td>\n",
       "      <td>14.0</td>\n",
       "      <td>36.0</td>\n",
       "      <td>137.0</td>\n",
       "      <td>791.0</td>\n",
       "      <td>0.0</td>\n",
       "    </tr>\n",
       "    <tr>\n",
       "      <th>24685</th>\n",
       "      <td>2017.0</td>\n",
       "      <td>Thaddeus Young</td>\n",
       "      <td>PF</td>\n",
       "      <td>28.0</td>\n",
       "      <td>IND</td>\n",
       "      <td>74.0</td>\n",
       "      <td>74.0</td>\n",
       "      <td>2237.0</td>\n",
       "      <td>14.9</td>\n",
       "      <td>0.562</td>\n",
       "      <td>...</td>\n",
       "      <td>131.0</td>\n",
       "      <td>318.0</td>\n",
       "      <td>449.0</td>\n",
       "      <td>122.0</td>\n",
       "      <td>114.0</td>\n",
       "      <td>30.0</td>\n",
       "      <td>96.0</td>\n",
       "      <td>135.0</td>\n",
       "      <td>814.0</td>\n",
       "      <td>0.0</td>\n",
       "    </tr>\n",
       "    <tr>\n",
       "      <th>24686</th>\n",
       "      <td>2017.0</td>\n",
       "      <td>Cody Zeller</td>\n",
       "      <td>PF</td>\n",
       "      <td>24.0</td>\n",
       "      <td>CHO</td>\n",
       "      <td>62.0</td>\n",
       "      <td>58.0</td>\n",
       "      <td>1725.0</td>\n",
       "      <td>16.7</td>\n",
       "      <td>0.604</td>\n",
       "      <td>...</td>\n",
       "      <td>135.0</td>\n",
       "      <td>270.0</td>\n",
       "      <td>405.0</td>\n",
       "      <td>99.0</td>\n",
       "      <td>62.0</td>\n",
       "      <td>58.0</td>\n",
       "      <td>65.0</td>\n",
       "      <td>189.0</td>\n",
       "      <td>639.0</td>\n",
       "      <td>0.0</td>\n",
       "    </tr>\n",
       "    <tr>\n",
       "      <th>24687</th>\n",
       "      <td>2017.0</td>\n",
       "      <td>Tyler Zeller</td>\n",
       "      <td>C</td>\n",
       "      <td>27.0</td>\n",
       "      <td>BOS</td>\n",
       "      <td>51.0</td>\n",
       "      <td>5.0</td>\n",
       "      <td>525.0</td>\n",
       "      <td>13.0</td>\n",
       "      <td>0.508</td>\n",
       "      <td>...</td>\n",
       "      <td>43.0</td>\n",
       "      <td>81.0</td>\n",
       "      <td>124.0</td>\n",
       "      <td>42.0</td>\n",
       "      <td>7.0</td>\n",
       "      <td>21.0</td>\n",
       "      <td>20.0</td>\n",
       "      <td>61.0</td>\n",
       "      <td>178.0</td>\n",
       "      <td>0.0</td>\n",
       "    </tr>\n",
       "    <tr>\n",
       "      <th>24688</th>\n",
       "      <td>2017.0</td>\n",
       "      <td>Stephen Zimmerman</td>\n",
       "      <td>C</td>\n",
       "      <td>20.0</td>\n",
       "      <td>ORL</td>\n",
       "      <td>19.0</td>\n",
       "      <td>0.0</td>\n",
       "      <td>108.0</td>\n",
       "      <td>7.3</td>\n",
       "      <td>0.346</td>\n",
       "      <td>...</td>\n",
       "      <td>11.0</td>\n",
       "      <td>24.0</td>\n",
       "      <td>35.0</td>\n",
       "      <td>4.0</td>\n",
       "      <td>2.0</td>\n",
       "      <td>5.0</td>\n",
       "      <td>3.0</td>\n",
       "      <td>17.0</td>\n",
       "      <td>23.0</td>\n",
       "      <td>0.0</td>\n",
       "    </tr>\n",
       "    <tr>\n",
       "      <th>24689</th>\n",
       "      <td>2017.0</td>\n",
       "      <td>Paul Zipser</td>\n",
       "      <td>SF</td>\n",
       "      <td>22.0</td>\n",
       "      <td>CHI</td>\n",
       "      <td>44.0</td>\n",
       "      <td>18.0</td>\n",
       "      <td>843.0</td>\n",
       "      <td>6.9</td>\n",
       "      <td>0.503</td>\n",
       "      <td>...</td>\n",
       "      <td>15.0</td>\n",
       "      <td>110.0</td>\n",
       "      <td>125.0</td>\n",
       "      <td>36.0</td>\n",
       "      <td>15.0</td>\n",
       "      <td>16.0</td>\n",
       "      <td>40.0</td>\n",
       "      <td>78.0</td>\n",
       "      <td>240.0</td>\n",
       "      <td>0.0</td>\n",
       "    </tr>\n",
       "    <tr>\n",
       "      <th>24690</th>\n",
       "      <td>2017.0</td>\n",
       "      <td>Ivica Zubac</td>\n",
       "      <td>C</td>\n",
       "      <td>19.0</td>\n",
       "      <td>LAL</td>\n",
       "      <td>38.0</td>\n",
       "      <td>11.0</td>\n",
       "      <td>609.0</td>\n",
       "      <td>17.0</td>\n",
       "      <td>0.547</td>\n",
       "      <td>...</td>\n",
       "      <td>41.0</td>\n",
       "      <td>118.0</td>\n",
       "      <td>159.0</td>\n",
       "      <td>30.0</td>\n",
       "      <td>14.0</td>\n",
       "      <td>33.0</td>\n",
       "      <td>30.0</td>\n",
       "      <td>66.0</td>\n",
       "      <td>284.0</td>\n",
       "      <td>0.0</td>\n",
       "    </tr>\n",
       "  </tbody>\n",
       "</table>\n",
       "<p>20 rows × 51 columns</p>\n",
       "</div>"
      ],
      "text/plain": [
       "         Year             Player Pos   Age   Tm     G    GS      MP   PER  \\\n",
       "24670  2017.0    Marvin Williams  PF  30.0  CHO  76.0  76.0  2295.0  13.7   \n",
       "24671  2017.0    Reggie Williams  SF  30.0  NOP   6.0   0.0    79.0  11.7   \n",
       "24673  2017.0      Troy Williams  SF  22.0  MEM  24.0  13.0   418.0   7.6   \n",
       "24674  2017.0      Troy Williams  SF  22.0  HOU   6.0   3.0   139.0  12.8   \n",
       "24675  2017.0       Kyle Wiltjer  PF  24.0  HOU  14.0   0.0    44.0   6.7   \n",
       "24676  2017.0    Justise Winslow  SF  20.0  MIA  18.0  15.0   625.0   8.2   \n",
       "24677  2017.0        Jeff Withey   C  26.0  UTA  51.0   1.0   432.0  18.8   \n",
       "24678  2017.0     Christian Wood  PF  21.0  CHO  13.0   0.0   107.0  15.1   \n",
       "24679  2017.0        Metta World  SF  37.0  LAL  25.0   2.0   160.0   6.2   \n",
       "24680  2017.0     Brandan Wright  PF  29.0  MEM  28.0   5.0   447.0  18.5   \n",
       "24681  2017.0       Delon Wright  PG  24.0  TOR  27.0   0.0   446.0  15.0   \n",
       "24682  2017.0        James Young  SG  21.0  BOS  29.0   0.0   220.0  10.0   \n",
       "24683  2017.0          Joe Young  PG  24.0  IND  33.0   0.0   135.0  11.4   \n",
       "24684  2017.0         Nick Young  SG  31.0  LAL  60.0  60.0  1556.0  14.1   \n",
       "24685  2017.0     Thaddeus Young  PF  28.0  IND  74.0  74.0  2237.0  14.9   \n",
       "24686  2017.0        Cody Zeller  PF  24.0  CHO  62.0  58.0  1725.0  16.7   \n",
       "24687  2017.0       Tyler Zeller   C  27.0  BOS  51.0   5.0   525.0  13.0   \n",
       "24688  2017.0  Stephen Zimmerman   C  20.0  ORL  19.0   0.0   108.0   7.3   \n",
       "24689  2017.0        Paul Zipser  SF  22.0  CHI  44.0  18.0   843.0   6.9   \n",
       "24690  2017.0        Ivica Zubac   C  19.0  LAL  38.0  11.0   609.0  17.0   \n",
       "\n",
       "         TS%  ...    ORB    DRB    TRB    AST    STL   BLK   TOV     PF  \\\n",
       "24670  0.551  ...   89.0  409.0  498.0  106.0   58.0  53.0  60.0  134.0   \n",
       "24671  0.518  ...    2.0    4.0    6.0    4.0    3.0   0.0   0.0    2.0   \n",
       "24673  0.474  ...    6.0   39.0   45.0   19.0   24.0   9.0  27.0   42.0   \n",
       "24674  0.616  ...    9.0   15.0   24.0    6.0    3.0   1.0   6.0   18.0   \n",
       "24675  0.437  ...    4.0    6.0   10.0    2.0    3.0   1.0   5.0    4.0   \n",
       "24676  0.399  ...   23.0   71.0   94.0   66.0   27.0   6.0  33.0   52.0   \n",
       "24677  0.588  ...   52.0   69.0  121.0    7.0   16.0  32.0  14.0   52.0   \n",
       "24678  0.591  ...   14.0   15.0   29.0    2.0    3.0   6.0   7.0   11.0   \n",
       "24679  0.380  ...    5.0   15.0   20.0   11.0    9.0   2.0   7.0   18.0   \n",
       "24680  0.628  ...   31.0   47.0   78.0   15.0   11.0  20.0  10.0   42.0   \n",
       "24681  0.535  ...   16.0   32.0   48.0   57.0   27.0  11.0  25.0   31.0   \n",
       "24682  0.549  ...    6.0   20.0   26.0    4.0   10.0   2.0   4.0   15.0   \n",
       "24683  0.433  ...    1.0   16.0   17.0   15.0    4.0   0.0   5.0    5.0   \n",
       "24684  0.588  ...   25.0  112.0  137.0   58.0   37.0  14.0  36.0  137.0   \n",
       "24685  0.562  ...  131.0  318.0  449.0  122.0  114.0  30.0  96.0  135.0   \n",
       "24686  0.604  ...  135.0  270.0  405.0   99.0   62.0  58.0  65.0  189.0   \n",
       "24687  0.508  ...   43.0   81.0  124.0   42.0    7.0  21.0  20.0   61.0   \n",
       "24688  0.346  ...   11.0   24.0   35.0    4.0    2.0   5.0   3.0   17.0   \n",
       "24689  0.503  ...   15.0  110.0  125.0   36.0   15.0  16.0  40.0   78.0   \n",
       "24690  0.547  ...   41.0  118.0  159.0   30.0   14.0  33.0  30.0   66.0   \n",
       "\n",
       "         PTS  MVP  \n",
       "24670  849.0  0.0  \n",
       "24671   27.0  0.0  \n",
       "24673  127.0  0.0  \n",
       "24674   58.0  0.0  \n",
       "24675   13.0  0.0  \n",
       "24676  196.0  0.0  \n",
       "24677  146.0  0.0  \n",
       "24678   35.0  0.0  \n",
       "24679   57.0  0.0  \n",
       "24680  189.0  0.0  \n",
       "24681  150.0  0.0  \n",
       "24682   68.0  0.0  \n",
       "24683   68.0  0.0  \n",
       "24684  791.0  0.0  \n",
       "24685  814.0  0.0  \n",
       "24686  639.0  0.0  \n",
       "24687  178.0  0.0  \n",
       "24688   23.0  0.0  \n",
       "24689  240.0  0.0  \n",
       "24690  284.0  0.0  \n",
       "\n",
       "[20 rows x 51 columns]"
      ]
     },
     "execution_count": 132,
     "metadata": {},
     "output_type": "execute_result"
    }
   ],
   "source": [
    "stats_df.tail(20)"
   ]
  },
  {
   "cell_type": "markdown",
   "metadata": {},
   "source": [
    "# Code below testing with just 3 features"
   ]
  },
  {
   "cell_type": "code",
   "execution_count": 133,
   "metadata": {},
   "outputs": [],
   "source": [
    "# Separate the y variable, the labels\n",
    "y = stats_df[\"MVP\"]\n",
    "# Separate the X variable, the features\n",
    "X = stats_df[[\"PTS\", \"TRB\", \"AST\"]]"
   ]
  },
  {
   "cell_type": "code",
   "execution_count": 134,
   "metadata": {},
   "outputs": [],
   "source": [
    "# Split the data using train_test_split\n",
    "# Assign a random_state of 1 to the function\n",
    "X_train, X_test, y_train, y_test = train_test_split(X, y, random_state=1)"
   ]
  },
  {
   "cell_type": "code",
   "execution_count": 135,
   "metadata": {},
   "outputs": [],
   "source": [
    "# Create a StandardScaler instance\n",
    "scaler = StandardScaler()\n",
    "\n",
    "# Fit the scaler to the features training dataset\n",
    "X_scaler = scaler.fit(X_train)\n",
    "\n",
    "# Fit the scaler to the features training dataset\n",
    "X_train = X_scaler.fit_transform(X_train)\n",
    "X_test = X_scaler.transform(X_test)"
   ]
  },
  {
   "cell_type": "code",
   "execution_count": 136,
   "metadata": {},
   "outputs": [],
   "source": [
    "# Assign a random_state parameter of 1 to the model\n",
    "logistic_regression_model = LogisticRegression(solver='lbfgs', max_iter=1000)\n",
    "\n",
    "# Fit the model using training data\n",
    "lr_model = logistic_regression_model.fit(X_train, y_train)"
   ]
  },
  {
   "cell_type": "code",
   "execution_count": 137,
   "metadata": {},
   "outputs": [
    {
     "data": {
      "text/plain": [
       "array([0., 0., 0., ..., 0., 0., 0.])"
      ]
     },
     "execution_count": 137,
     "metadata": {},
     "output_type": "execute_result"
    }
   ],
   "source": [
    "# Make a prediction using the testing data\n",
    "testing_predictions = lr_model.predict(X_test)\n",
    "testing_predictions"
   ]
  },
  {
   "cell_type": "code",
   "execution_count": 138,
   "metadata": {},
   "outputs": [
    {
     "data": {
      "text/plain": [
       "0.5"
      ]
     },
     "execution_count": 138,
     "metadata": {},
     "output_type": "execute_result"
    }
   ],
   "source": [
    "# Print the balanced_accuracy score of the model\n",
    "balanced_accuracy_score(y_test, testing_predictions)"
   ]
  },
  {
   "cell_type": "code",
   "execution_count": 139,
   "metadata": {},
   "outputs": [
    {
     "data": {
      "text/plain": [
       "array([[4312,    0],\n",
       "       [  11,    0]], dtype=int64)"
      ]
     },
     "execution_count": 139,
     "metadata": {},
     "output_type": "execute_result"
    }
   ],
   "source": [
    "confusion_matrix(y_test,testing_predictions)"
   ]
  },
  {
   "cell_type": "markdown",
   "metadata": {},
   "source": [
    "# Create Heatmap to select which columns to use as features based on correlation"
   ]
  },
  {
   "cell_type": "code",
   "execution_count": 140,
   "metadata": {},
   "outputs": [
    {
     "data": {
      "text/plain": [
       "<AxesSubplot:>"
      ]
     },
     "execution_count": 140,
     "metadata": {},
     "output_type": "execute_result"
    },
    {
     "data": {
      "image/png": "[encoded data removed]",
      "text/plain": [
       "<Figure size 720x720 with 2 Axes>"
      ]
     },
     "metadata": {
      "needs_background": "light"
     },
     "output_type": "display_data"
    }
   ],
   "source": [
    "plt.figure(figsize = (10,10))\n",
    "sns.heatmap(stats_df.corr())"
   ]
  },
  {
   "cell_type": "code",
   "execution_count": 141,
   "metadata": {},
   "outputs": [
    {
     "data": {
      "text/plain": [
       "Age      float64\n",
       "G        float64\n",
       "GS       float64\n",
       "MP       float64\n",
       "PER      float64\n",
       "TS%      float64\n",
       "3PAr     float64\n",
       "FTr      float64\n",
       "ORB%     float64\n",
       "DRB%     float64\n",
       "TRB%     float64\n",
       "AST%     float64\n",
       "STL%     float64\n",
       "BLK%     float64\n",
       "TOV%     float64\n",
       "USG%     float64\n",
       "OWS      float64\n",
       "DWS      float64\n",
       "WS       float64\n",
       "WS/48    float64\n",
       "OBPM     float64\n",
       "DBPM     float64\n",
       "BPM      float64\n",
       "VORP     float64\n",
       "FG       float64\n",
       "FGA      float64\n",
       "FG%      float64\n",
       "3P       float64\n",
       "3PA      float64\n",
       "3P%      float64\n",
       "2P       float64\n",
       "2PA      float64\n",
       "2P%      float64\n",
       "eFG%     float64\n",
       "FT       float64\n",
       "FTA      float64\n",
       "FT%      float64\n",
       "ORB      float64\n",
       "DRB      float64\n",
       "TRB      float64\n",
       "AST      float64\n",
       "STL      float64\n",
       "BLK      float64\n",
       "TOV      float64\n",
       "PF       float64\n",
       "PTS      float64\n",
       "MVP      float64\n",
       "dtype: object"
      ]
     },
     "execution_count": 141,
     "metadata": {},
     "output_type": "execute_result"
    }
   ],
   "source": [
    "#Drop columns we identified as not being relevent\n",
    "stats_df=stats_df.drop(columns=['Year', 'Pos', \"Player\", \"Tm\"])\n",
    "stats_df.dtypes"
   ]
  },
  {
   "cell_type": "code",
   "execution_count": 142,
   "metadata": {},
   "outputs": [
    {
     "data": {
      "text/plain": [
       "<AxesSubplot:>"
      ]
     },
     "execution_count": 142,
     "metadata": {},
     "output_type": "execute_result"
    },
    {
     "data": {
      "image/png": "[encoded data removed]",
      "text/plain": [
       "<Figure size 1080x1080 with 2 Axes>"
      ]
     },
     "metadata": {
      "needs_background": "light"
     },
     "output_type": "display_data"
    }
   ],
   "source": [
    "plt.figure(figsize = (15,15))\n",
    "sns.heatmap(stats_df.corr())"
   ]
  },
  {
   "cell_type": "markdown",
   "metadata": {},
   "source": [
    "# Run Logistic regression model with more features"
   ]
  },
  {
   "cell_type": "code",
   "execution_count": 143,
   "metadata": {},
   "outputs": [],
   "source": [
    "# Separate the y variable, the labels\n",
    "y = stats_df[\"MVP\"]\n",
    "# Separate the X variable, the features\n",
    "X = stats_df.drop(columns=[\"MVP\"])\n",
    "# Split the data using train_test_split\n",
    "# Assign a random_state of 1 to the function\n",
    "X_train, X_test, y_train, y_test = train_test_split(X, y, random_state=1)"
   ]
  },
  {
   "cell_type": "code",
   "execution_count": 144,
   "metadata": {},
   "outputs": [],
   "source": [
    "# Create a StandardScaler instance\n",
    "scaler = StandardScaler()\n",
    "\n",
    "# Fit the scaler to the features training dataset\n",
    "X_scaler = scaler.fit(X_train)\n",
    "\n",
    "# Fit the scaler to the features training dataset\n",
    "X_train = X_scaler.fit_transform(X_train)\n",
    "X_test = X_scaler.transform(X_test)"
   ]
  },
  {
   "cell_type": "code",
   "execution_count": 145,
   "metadata": {},
   "outputs": [],
   "source": [
    "# Assign a random_state parameter of 1 to the model\n",
    "logistic_regression_model = LogisticRegression(solver='lbfgs', max_iter=1000)\n",
    "\n",
    "# Fit the model using training data\n",
    "lr_model = logistic_regression_model.fit(X_train, y_train)"
   ]
  },
  {
   "cell_type": "code",
   "execution_count": 146,
   "metadata": {},
   "outputs": [
    {
     "data": {
      "text/plain": [
       "array([0., 0., 0., ..., 0., 0., 0.])"
      ]
     },
     "execution_count": 146,
     "metadata": {},
     "output_type": "execute_result"
    }
   ],
   "source": [
    "testing_predictions = lr_model.predict(X_test)\n",
    "testing_predictions"
   ]
  },
  {
   "cell_type": "code",
   "execution_count": 147,
   "metadata": {},
   "outputs": [
    {
     "data": {
      "text/plain": [
       "0.6363636363636364"
      ]
     },
     "execution_count": 147,
     "metadata": {},
     "output_type": "execute_result"
    }
   ],
   "source": [
    "# Print the balanced_accuracy score of the model\n",
    "balanced_accuracy_score(y_test, testing_predictions)"
   ]
  },
  {
   "cell_type": "code",
   "execution_count": 148,
   "metadata": {},
   "outputs": [
    {
     "data": {
      "text/plain": [
       "Text(69.0, 0.5, 'Truth')"
      ]
     },
     "execution_count": 148,
     "metadata": {},
     "output_type": "execute_result"
    },
    {
     "data": {
      "image/png": "[encoded data removed]",
      "text/plain": [
       "<Figure size 720x504 with 2 Axes>"
      ]
     },
     "metadata": {
      "needs_background": "light"
     },
     "output_type": "display_data"
    }
   ],
   "source": [
    "cm = tf.math.confusion_matrix(labels=y_test,predictions=testing_predictions)\n",
    "\n",
    "plt.figure(figsize = (10,7))\n",
    "sns.heatmap(cm, annot=True, fmt='d',cmap=\"YlGnBu\")\n",
    "plt.xlabel('Predicted')\n",
    "plt.ylabel('Truth')"
   ]
  },
  {
   "cell_type": "markdown",
   "metadata": {},
   "source": [
    "# Use RandomForestClassifier to figure out most impactful features"
   ]
  },
  {
   "cell_type": "code",
   "execution_count": 149,
   "metadata": {},
   "outputs": [
    {
     "data": {
      "text/plain": [
       "Text(0.5, 1.0, 'Random Forest')"
      ]
     },
     "execution_count": 149,
     "metadata": {},
     "output_type": "execute_result"
    },
    {
     "data": {
      "image/png": "[encoded data removed]",
      "text/plain": [
       "<Figure size 1080x720 with 1 Axes>"
      ]
     },
     "metadata": {
      "needs_background": "light"
     },
     "output_type": "display_data"
    }
   ],
   "source": [
    "rf = RandomForestClassifier(random_state=1)\n",
    "rf.fit(X,y)\n",
    "importance = pd.DataFrame(rf.feature_importances_,index=X.columns.tolist(),columns=['importance']).sort_values(by='importance',ascending=False)\n",
    "importance.head(20).plot(kind='bar',figsize = (15,10))\n",
    "plt.title(\"Random Forest\")"
   ]
  },
  {
   "cell_type": "code",
   "execution_count": 150,
   "metadata": {},
   "outputs": [],
   "source": [
    "important_features = importance.index"
   ]
  },
  {
   "cell_type": "markdown",
   "metadata": {},
   "source": [
    "## Use top 15 features for Logistic Regression"
   ]
  },
  {
   "cell_type": "code",
   "execution_count": 151,
   "metadata": {},
   "outputs": [],
   "source": [
    "top_15_features = important_features[:15]"
   ]
  },
  {
   "cell_type": "code",
   "execution_count": 153,
   "metadata": {},
   "outputs": [
    {
     "data": {
      "text/plain": [
       "Index(['WS', 'OWS', 'VORP', 'WS/48', 'BPM', 'PTS', 'DWS', 'FG', 'PER', '2PA',\n",
       "       'DBPM', 'FGA', 'AST', 'FTr', 'PF'],\n",
       "      dtype='object')"
      ]
     },
     "execution_count": 153,
     "metadata": {},
     "output_type": "execute_result"
    }
   ],
   "source": [
    "top_15_features"
   ]
  },
  {
   "cell_type": "code",
   "execution_count": 154,
   "metadata": {},
   "outputs": [],
   "source": [
    "# Separate the y variable, the labels\n",
    "y = stats_df[\"MVP\"]\n",
    "# Separate the X variable, the features\n",
    "X = stats_df[top_15_features]\n",
    "# Split the data using train_test_split\n",
    "# Assign a random_state of 1 to the function\n",
    "X_train, X_test, y_train, y_test = train_test_split(X, y, random_state=1)"
   ]
  },
  {
   "cell_type": "code",
   "execution_count": 155,
   "metadata": {},
   "outputs": [],
   "source": [
    "# Create a StandardScaler instance\n",
    "scaler = StandardScaler()\n",
    "\n",
    "# Fit the scaler to the features training dataset\n",
    "X_scaler = scaler.fit(X_train)\n",
    "\n",
    "# Fit the scaler to the features training dataset\n",
    "X_train = X_scaler.fit_transform(X_train)\n",
    "X_test = X_scaler.transform(X_test)"
   ]
  },
  {
   "cell_type": "code",
   "execution_count": 156,
   "metadata": {},
   "outputs": [],
   "source": [
    "# Assign a random_state parameter of 1 to the model\n",
    "logistic_regression_model = LogisticRegression(solver='lbfgs', max_iter=1000)\n",
    "\n",
    "# Fit the model using training data\n",
    "lr_model = logistic_regression_model.fit(X_train, y_train)"
   ]
  },
  {
   "cell_type": "code",
   "execution_count": 157,
   "metadata": {},
   "outputs": [
    {
     "data": {
      "text/plain": [
       "array([0., 0., 0., ..., 0., 0., 0.])"
      ]
     },
     "execution_count": 157,
     "metadata": {},
     "output_type": "execute_result"
    }
   ],
   "source": [
    "testing_predictions = lr_model.predict(X_test)\n",
    "testing_predictions"
   ]
  },
  {
   "cell_type": "code",
   "execution_count": 158,
   "metadata": {},
   "outputs": [
    {
     "data": {
      "text/plain": [
       "0.6818181818181819"
      ]
     },
     "execution_count": 158,
     "metadata": {},
     "output_type": "execute_result"
    }
   ],
   "source": [
    "# Print the balanced_accuracy score of the model\n",
    "balanced_accuracy_score(y_test, testing_predictions)"
   ]
  },
  {
   "cell_type": "code",
   "execution_count": 159,
   "metadata": {},
   "outputs": [
    {
     "data": {
      "text/plain": [
       "Text(69.0, 0.5, 'Truth')"
      ]
     },
     "execution_count": 159,
     "metadata": {},
     "output_type": "execute_result"
    },
    {
     "data": {
      "image/png": "[encoded data removed]",
      "text/plain": [
       "<Figure size 720x504 with 2 Axes>"
      ]
     },
     "metadata": {
      "needs_background": "light"
     },
     "output_type": "display_data"
    }
   ],
   "source": [
    "cm = tf.math.confusion_matrix(labels=y_test,predictions=testing_predictions)\n",
    "\n",
    "plt.figure(figsize = (10,7))\n",
    "sns.heatmap(cm, annot=True, fmt='d',cmap=\"YlGnBu\")\n",
    "plt.xlabel('Predicted')\n",
    "plt.ylabel('Truth')"
   ]
  },
  {
   "cell_type": "markdown",
   "metadata": {},
   "source": [
    "# Using Neural Network"
   ]
  },
  {
   "cell_type": "code",
   "execution_count": 160,
   "metadata": {},
   "outputs": [],
   "source": [
    "# Separate the y variable, the labels\n",
    "y = stats_df[\"MVP\"]\n",
    "# Separate the X variable, the features\n",
    "X = stats_df.drop(columns=[\"MVP\"])\n",
    "# Split the data using train_test_split\n",
    "# Assign a random_state of 1 to the function\n",
    "X_train, X_test, y_train, y_test = train_test_split(X, y, random_state=1)"
   ]
  },
  {
   "cell_type": "code",
   "execution_count": 161,
   "metadata": {},
   "outputs": [],
   "source": [
    "# Create a StandardScaler instance\n",
    "scaler = StandardScaler()\n",
    "\n",
    "# Fit the scaler to the features training dataset\n",
    "X_scaler = scaler.fit(X_train)\n",
    "\n",
    "# Fit the scaler to the features training dataset\n",
    "X_train_scaled = X_scaler.transform(X_train)\n",
    "X_test_scaled = X_scaler.transform(X_test)"
   ]
  },
  {
   "cell_type": "code",
   "execution_count": 162,
   "metadata": {},
   "outputs": [
    {
     "data": {
      "text/plain": [
       "46"
      ]
     },
     "execution_count": 162,
     "metadata": {},
     "output_type": "execute_result"
    }
   ],
   "source": [
    "# Define the the number of inputs (features) to the model\n",
    "number_input_features = len(X_train.iloc[0])\n",
    "\n",
    "# Review the number of features\n",
    "number_input_features"
   ]
  },
  {
   "cell_type": "code",
   "execution_count": 163,
   "metadata": {},
   "outputs": [
    {
     "data": {
      "text/plain": [
       "20"
      ]
     },
     "execution_count": 163,
     "metadata": {},
     "output_type": "execute_result"
    }
   ],
   "source": [
    "# Define the number of neurons in the output layer\n",
    "number_output_neurons = 1\n",
    "# Define the number of hidden nodes for the first hidden layer\n",
    "hidden_nodes_layer1 =  20\n",
    "\n",
    "# Review the number hidden nodes in the first layer\n",
    "hidden_nodes_layer1"
   ]
  },
  {
   "cell_type": "code",
   "execution_count": 164,
   "metadata": {},
   "outputs": [
    {
     "data": {
      "text/plain": [
       "10"
      ]
     },
     "execution_count": 164,
     "metadata": {},
     "output_type": "execute_result"
    }
   ],
   "source": [
    "# Define the number of hidden nodes for the second hidden layer\n",
    "hidden_nodes_layer2 =  10\n",
    "\n",
    "# Review the number hidden nodes in the second layer\n",
    "hidden_nodes_layer2"
   ]
  },
  {
   "cell_type": "code",
   "execution_count": 165,
   "metadata": {},
   "outputs": [
    {
     "name": "stdout",
     "output_type": "stream",
     "text": [
      "Model: \"sequential_2\"\n",
      "_________________________________________________________________\n",
      " Layer (type)                Output Shape              Param #   \n",
      "=================================================================\n",
      " dense_6 (Dense)             (None, 20)                940       \n",
      "                                                                 \n",
      " dense_7 (Dense)             (None, 10)                210       \n",
      "                                                                 \n",
      " dense_8 (Dense)             (None, 1)                 11        \n",
      "                                                                 \n",
      "=================================================================\n",
      "Total params: 1,161\n",
      "Trainable params: 1,161\n",
      "Non-trainable params: 0\n",
      "_________________________________________________________________\n"
     ]
    }
   ],
   "source": [
    "# Create the Sequential model instance\n",
    "nn = Sequential()\n",
    "# Add the first hidden layer\n",
    "nn.add(Dense(units=hidden_nodes_layer1, input_dim=number_input_features, activation=\"relu\"))\n",
    "# Add the second hidden layer\n",
    "nn.add(Dense(units=hidden_nodes_layer2, activation=\"relu\"))\n",
    "# Add the output layer to the model specifying the number of output neurons and activation function\n",
    "nn.add(Dense(units=number_output_neurons, activation=\"sigmoid\"))\n",
    "# Display the Sequential model summary\n",
    "nn.summary()"
   ]
  },
  {
   "cell_type": "code",
   "execution_count": 166,
   "metadata": {},
   "outputs": [],
   "source": [
    "# Compile the Sequential model\n",
    "nn.compile(loss=\"binary_crossentropy\", optimizer=\"adam\", metrics=[\"accuracy\"])"
   ]
  },
  {
   "cell_type": "code",
   "execution_count": 167,
   "metadata": {},
   "outputs": [
    {
     "name": "stdout",
     "output_type": "stream",
     "text": [
      "Epoch 1/50\n",
      "406/406 [==============================] - 0s 498us/step - loss: 0.1116 - accuracy: 0.9771\n",
      "Epoch 2/50\n",
      "406/406 [==============================] - 0s 493us/step - loss: 0.0149 - accuracy: 0.9979\n",
      "Epoch 3/50\n",
      "406/406 [==============================] - 0s 497us/step - loss: 0.0096 - accuracy: 0.9978\n",
      "Epoch 4/50\n",
      "406/406 [==============================] - 0s 495us/step - loss: 0.0082 - accuracy: 0.9976\n",
      "Epoch 5/50\n",
      "406/406 [==============================] - 0s 497us/step - loss: 0.0072 - accuracy: 0.9978\n",
      "Epoch 6/50\n",
      "406/406 [==============================] - 0s 495us/step - loss: 0.0066 - accuracy: 0.9981\n",
      "Epoch 7/50\n",
      "406/406 [==============================] - 0s 495us/step - loss: 0.0063 - accuracy: 0.9979\n",
      "Epoch 8/50\n",
      "406/406 [==============================] - 0s 495us/step - loss: 0.0059 - accuracy: 0.9978\n",
      "Epoch 9/50\n",
      "406/406 [==============================] - 0s 515us/step - loss: 0.0053 - accuracy: 0.9982\n",
      "Epoch 10/50\n",
      "406/406 [==============================] - 0s 525us/step - loss: 0.0053 - accuracy: 0.9982\n",
      "Epoch 11/50\n",
      "406/406 [==============================] - 0s 500us/step - loss: 0.0053 - accuracy: 0.9980\n",
      "Epoch 12/50\n",
      "406/406 [==============================] - 0s 527us/step - loss: 0.0047 - accuracy: 0.99800s - loss: 0.0046 - accuracy: 0.99\n",
      "Epoch 13/50\n",
      "406/406 [==============================] - 0s 500us/step - loss: 0.0046 - accuracy: 0.9981\n",
      "Epoch 14/50\n",
      "406/406 [==============================] - 0s 498us/step - loss: 0.0047 - accuracy: 0.9979\n",
      "Epoch 15/50\n",
      "406/406 [==============================] - 0s 500us/step - loss: 0.0046 - accuracy: 0.9980\n",
      "Epoch 16/50\n",
      "406/406 [==============================] - 0s 522us/step - loss: 0.0039 - accuracy: 0.9981\n",
      "Epoch 17/50\n",
      "406/406 [==============================] - 0s 495us/step - loss: 0.0048 - accuracy: 0.9978\n",
      "Epoch 18/50\n",
      "406/406 [==============================] - 0s 497us/step - loss: 0.0046 - accuracy: 0.9979\n",
      "Epoch 19/50\n",
      "406/406 [==============================] - 0s 497us/step - loss: 0.0043 - accuracy: 0.9985\n",
      "Epoch 20/50\n",
      "406/406 [==============================] - 0s 497us/step - loss: 0.0040 - accuracy: 0.9985\n",
      "Epoch 21/50\n",
      "406/406 [==============================] - 0s 500us/step - loss: 0.0038 - accuracy: 0.9985\n",
      "Epoch 22/50\n",
      "406/406 [==============================] - 0s 493us/step - loss: 0.0039 - accuracy: 0.9981\n",
      "Epoch 23/50\n",
      "406/406 [==============================] - 0s 497us/step - loss: 0.0037 - accuracy: 0.9985\n",
      "Epoch 24/50\n",
      "406/406 [==============================] - 0s 495us/step - loss: 0.0043 - accuracy: 0.9981\n",
      "Epoch 25/50\n",
      "406/406 [==============================] - 0s 495us/step - loss: 0.0036 - accuracy: 0.9982\n",
      "Epoch 26/50\n",
      "406/406 [==============================] - 0s 500us/step - loss: 0.0036 - accuracy: 0.9982\n",
      "Epoch 27/50\n",
      "406/406 [==============================] - 0s 497us/step - loss: 0.0040 - accuracy: 0.9987\n",
      "Epoch 28/50\n",
      "406/406 [==============================] - 0s 495us/step - loss: 0.0035 - accuracy: 0.9988\n",
      "Epoch 29/50\n",
      "406/406 [==============================] - 0s 497us/step - loss: 0.0036 - accuracy: 0.9985\n",
      "Epoch 30/50\n",
      "406/406 [==============================] - 0s 495us/step - loss: 0.0036 - accuracy: 0.9982\n",
      "Epoch 31/50\n",
      "406/406 [==============================] - 0s 502us/step - loss: 0.0037 - accuracy: 0.9984\n",
      "Epoch 32/50\n",
      "406/406 [==============================] - 0s 500us/step - loss: 0.0035 - accuracy: 0.9986\n",
      "Epoch 33/50\n",
      "406/406 [==============================] - 0s 495us/step - loss: 0.0033 - accuracy: 0.9987\n",
      "Epoch 34/50\n",
      "406/406 [==============================] - 0s 500us/step - loss: 0.0033 - accuracy: 0.9985\n",
      "Epoch 35/50\n",
      "406/406 [==============================] - 0s 497us/step - loss: 0.0035 - accuracy: 0.9987\n",
      "Epoch 36/50\n",
      "406/406 [==============================] - 0s 497us/step - loss: 0.0034 - accuracy: 0.9985\n",
      "Epoch 37/50\n",
      "406/406 [==============================] - 0s 515us/step - loss: 0.0026 - accuracy: 0.9989\n",
      "Epoch 38/50\n",
      "406/406 [==============================] - 0s 502us/step - loss: 0.0035 - accuracy: 0.9981\n",
      "Epoch 39/50\n",
      "406/406 [==============================] - 0s 495us/step - loss: 0.0033 - accuracy: 0.9983\n",
      "Epoch 40/50\n",
      "406/406 [==============================] - 0s 502us/step - loss: 0.0031 - accuracy: 0.9982\n",
      "Epoch 41/50\n",
      "406/406 [==============================] - 0s 510us/step - loss: 0.0033 - accuracy: 0.9986\n",
      "Epoch 42/50\n",
      "406/406 [==============================] - 0s 502us/step - loss: 0.0036 - accuracy: 0.9985\n",
      "Epoch 43/50\n",
      "406/406 [==============================] - 0s 507us/step - loss: 0.0032 - accuracy: 0.9986\n",
      "Epoch 44/50\n",
      "406/406 [==============================] - 0s 502us/step - loss: 0.0027 - accuracy: 0.9985\n",
      "Epoch 45/50\n",
      "406/406 [==============================] - 0s 515us/step - loss: 0.0029 - accuracy: 0.9990\n",
      "Epoch 46/50\n",
      "406/406 [==============================] - 0s 500us/step - loss: 0.0030 - accuracy: 0.9989\n",
      "Epoch 47/50\n",
      "406/406 [==============================] - 0s 493us/step - loss: 0.0027 - accuracy: 0.9988\n",
      "Epoch 48/50\n",
      "406/406 [==============================] - 0s 500us/step - loss: 0.0029 - accuracy: 0.9985\n",
      "Epoch 49/50\n",
      "406/406 [==============================] - 0s 500us/step - loss: 0.0028 - accuracy: 0.9988\n",
      "Epoch 50/50\n",
      "406/406 [==============================] - 0s 497us/step - loss: 0.0026 - accuracy: 0.9989\n"
     ]
    }
   ],
   "source": [
    "# Fit the model using 50 epochs and the training data\n",
    "fit_model = nn.fit(X_train_scaled, y_train, epochs=50)"
   ]
  },
  {
   "cell_type": "code",
   "execution_count": 168,
   "metadata": {},
   "outputs": [
    {
     "name": "stdout",
     "output_type": "stream",
     "text": [
      "136/136 - 0s - loss: 0.0103 - accuracy: 0.9981 - 103ms/epoch - 757us/step\n",
      "Loss: 0.010316282510757446, Accuracy: 0.9981494545936584\n"
     ]
    }
   ],
   "source": [
    "# Evaluate the model loss and accuracy metrics using the evaluate method and the test data\n",
    "model_loss, model_accuracy = nn.evaluate(X_test_scaled,y_test,verbose=2)\n",
    "\n",
    "# Display the model loss and accuracy results\n",
    "print(f\"Loss: {model_loss}, Accuracy: {model_accuracy}\")"
   ]
  },
  {
   "cell_type": "code",
   "execution_count": 169,
   "metadata": {},
   "outputs": [
    {
     "data": {
      "text/plain": [
       "array([[5.24202738e-14],\n",
       "       [3.49480356e-09],\n",
       "       [1.32818186e-05],\n",
       "       [1.02984245e-07],\n",
       "       [5.30673541e-13]], dtype=float32)"
      ]
     },
     "execution_count": 169,
     "metadata": {},
     "output_type": "execute_result"
    }
   ],
   "source": [
    "yp = nn.predict(X_test_scaled)\n",
    "yp[:5]"
   ]
  },
  {
   "cell_type": "code",
   "execution_count": 170,
   "metadata": {},
   "outputs": [],
   "source": [
    "y_pred = []\n",
    "for element in yp:\n",
    "    if element > 0.5:\n",
    "        y_pred.append(1)\n",
    "    else:\n",
    "        y_pred.append(0)"
   ]
  },
  {
   "cell_type": "code",
   "execution_count": 171,
   "metadata": {},
   "outputs": [
    {
     "data": {
      "text/plain": [
       "[0, 0, 0, 0, 0, 0, 0, 0, 0, 0]"
      ]
     },
     "execution_count": 171,
     "metadata": {},
     "output_type": "execute_result"
    }
   ],
   "source": [
    "y_pred[:10]"
   ]
  },
  {
   "cell_type": "code",
   "execution_count": 172,
   "metadata": {},
   "outputs": [
    {
     "name": "stdout",
     "output_type": "stream",
     "text": [
      "              precision    recall  f1-score   support\n",
      "\n",
      "         0.0       1.00      1.00      1.00      4312\n",
      "         1.0       0.67      0.55      0.60        11\n",
      "\n",
      "    accuracy                           1.00      4323\n",
      "   macro avg       0.83      0.77      0.80      4323\n",
      "weighted avg       1.00      1.00      1.00      4323\n",
      "\n"
     ]
    }
   ],
   "source": [
    "print(classification_report(y_test,y_pred))"
   ]
  },
  {
   "cell_type": "code",
   "execution_count": 173,
   "metadata": {},
   "outputs": [
    {
     "data": {
      "text/plain": [
       "Text(69.0, 0.5, 'Truth')"
      ]
     },
     "execution_count": 173,
     "metadata": {},
     "output_type": "execute_result"
    },
    {
     "data": {
      "image/png": "[encoded data removed]",
      "text/plain": [
       "<Figure size 720x504 with 2 Axes>"
      ]
     },
     "metadata": {
      "needs_background": "light"
     },
     "output_type": "display_data"
    }
   ],
   "source": [
    "cm = tf.math.confusion_matrix(labels=y_test,predictions=y_pred)\n",
    "\n",
    "plt.figure(figsize = (10,7))\n",
    "sns.heatmap(cm, annot=True, fmt='d',cmap=\"YlGnBu\")\n",
    "plt.xlabel('Predicted')\n",
    "plt.ylabel('Truth')"
   ]
  },
  {
   "cell_type": "markdown",
   "metadata": {},
   "source": [
    "# Try Nueral Network on top 15 features"
   ]
  },
  {
   "cell_type": "code",
   "execution_count": 187,
   "metadata": {},
   "outputs": [],
   "source": [
    "# Separate the y variable, the labels\n",
    "y = stats_df[\"MVP\"]\n",
    "# Separate the X variable, the features\n",
    "X = stats_df[top_15_features]\n",
    "# Split the data using train_test_split\n",
    "# Assign a random_state of 1 to the function\n",
    "X_train, X_test, y_train, y_test = train_test_split(X, y, random_state=1)"
   ]
  },
  {
   "cell_type": "code",
   "execution_count": 188,
   "metadata": {},
   "outputs": [],
   "source": [
    "# Create a StandardScaler instance\n",
    "scaler = StandardScaler()\n",
    "\n",
    "# Fit the scaler to the features training dataset\n",
    "X_scaler = scaler.fit(X_train)\n",
    "\n",
    "# Fit the scaler to the features training dataset\n",
    "X_train_scaled = X_scaler.transform(X_train)\n",
    "X_test_scaled = X_scaler.transform(X_test)"
   ]
  },
  {
   "cell_type": "code",
   "execution_count": 189,
   "metadata": {},
   "outputs": [
    {
     "data": {
      "text/plain": [
       "15"
      ]
     },
     "execution_count": 189,
     "metadata": {},
     "output_type": "execute_result"
    }
   ],
   "source": [
    "# Define the the number of inputs (features) to the model\n",
    "number_input_features = len(X_train.iloc[0])\n",
    "\n",
    "# Review the number of features\n",
    "number_input_features"
   ]
  },
  {
   "cell_type": "code",
   "execution_count": 190,
   "metadata": {},
   "outputs": [
    {
     "data": {
      "text/plain": [
       "7"
      ]
     },
     "execution_count": 190,
     "metadata": {},
     "output_type": "execute_result"
    }
   ],
   "source": [
    "# Define the number of neurons in the output layer\n",
    "number_output_neurons = 1\n",
    "# Define the number of hidden nodes for the first hidden layer\n",
    "hidden_nodes_layer1 =  7\n",
    "\n",
    "# Review the number hidden nodes in the first layer\n",
    "hidden_nodes_layer1"
   ]
  },
  {
   "cell_type": "code",
   "execution_count": 191,
   "metadata": {},
   "outputs": [
    {
     "data": {
      "text/plain": [
       "4"
      ]
     },
     "execution_count": 191,
     "metadata": {},
     "output_type": "execute_result"
    }
   ],
   "source": [
    "# Define the number of hidden nodes for the second hidden layer\n",
    "hidden_nodes_layer2 =  4\n",
    "\n",
    "# Review the number hidden nodes in the second layer\n",
    "hidden_nodes_layer2"
   ]
  },
  {
   "cell_type": "code",
   "execution_count": 192,
   "metadata": {},
   "outputs": [
    {
     "name": "stdout",
     "output_type": "stream",
     "text": [
      "Model: \"sequential_4\"\n",
      "_________________________________________________________________\n",
      " Layer (type)                Output Shape              Param #   \n",
      "=================================================================\n",
      " dense_12 (Dense)            (None, 7)                 112       \n",
      "                                                                 \n",
      " dense_13 (Dense)            (None, 4)                 32        \n",
      "                                                                 \n",
      " dense_14 (Dense)            (None, 1)                 5         \n",
      "                                                                 \n",
      "=================================================================\n",
      "Total params: 149\n",
      "Trainable params: 149\n",
      "Non-trainable params: 0\n",
      "_________________________________________________________________\n"
     ]
    }
   ],
   "source": [
    "# Create the Sequential model instance\n",
    "nn = Sequential()\n",
    "# Add the first hidden layer\n",
    "nn.add(Dense(units=hidden_nodes_layer1, input_dim=number_input_features, activation=\"relu\"))\n",
    "# Add the second hidden layer\n",
    "nn.add(Dense(units=hidden_nodes_layer2, activation=\"relu\"))\n",
    "# Add the output layer to the model specifying the number of output neurons and activation function\n",
    "nn.add(Dense(units=number_output_neurons, activation=\"sigmoid\"))\n",
    "# Display the Sequential model summary\n",
    "nn.summary()"
   ]
  },
  {
   "cell_type": "code",
   "execution_count": 193,
   "metadata": {},
   "outputs": [],
   "source": [
    "# Compile the Sequential model\n",
    "nn.compile(loss=\"binary_crossentropy\", optimizer=\"adam\", metrics=[\"accuracy\"])"
   ]
  },
  {
   "cell_type": "code",
   "execution_count": 194,
   "metadata": {},
   "outputs": [
    {
     "name": "stdout",
     "output_type": "stream",
     "text": [
      "Epoch 1/50\n",
      "406/406 [==============================] - 0s 484us/step - loss: 0.1504 - accuracy: 0.9925\n",
      "Epoch 2/50\n",
      "406/406 [==============================] - 0s 483us/step - loss: 0.0327 - accuracy: 0.9979\n",
      "Epoch 3/50\n",
      "406/406 [==============================] - 0s 483us/step - loss: 0.0179 - accuracy: 0.9979\n",
      "Epoch 4/50\n",
      "406/406 [==============================] - 0s 483us/step - loss: 0.0117 - accuracy: 0.9979\n",
      "Epoch 5/50\n",
      "406/406 [==============================] - 0s 485us/step - loss: 0.0093 - accuracy: 0.9979\n",
      "Epoch 6/50\n",
      "406/406 [==============================] - 0s 488us/step - loss: 0.0082 - accuracy: 0.9979\n",
      "Epoch 7/50\n",
      "406/406 [==============================] - 0s 488us/step - loss: 0.0074 - accuracy: 0.9979\n",
      "Epoch 8/50\n",
      "406/406 [==============================] - 0s 493us/step - loss: 0.0077 - accuracy: 0.9979\n",
      "Epoch 9/50\n",
      "406/406 [==============================] - 0s 500us/step - loss: 0.0066 - accuracy: 0.9979\n",
      "Epoch 10/50\n",
      "406/406 [==============================] - 0s 490us/step - loss: 0.0065 - accuracy: 0.9979\n",
      "Epoch 11/50\n",
      "406/406 [==============================] - 0s 483us/step - loss: 0.0065 - accuracy: 0.9979\n",
      "Epoch 12/50\n",
      "406/406 [==============================] - 0s 483us/step - loss: 0.0065 - accuracy: 0.9979\n",
      "Epoch 13/50\n",
      "406/406 [==============================] - 0s 483us/step - loss: 0.0061 - accuracy: 0.9979\n",
      "Epoch 14/50\n",
      "406/406 [==============================] - 0s 495us/step - loss: 0.0063 - accuracy: 0.9979\n",
      "Epoch 15/50\n",
      "406/406 [==============================] - 0s 485us/step - loss: 0.0061 - accuracy: 0.9979\n",
      "Epoch 16/50\n",
      "406/406 [==============================] - 0s 493us/step - loss: 0.0061 - accuracy: 0.9979\n",
      "Epoch 17/50\n",
      "406/406 [==============================] - 0s 493us/step - loss: 0.0060 - accuracy: 0.9979\n",
      "Epoch 18/50\n",
      "406/406 [==============================] - 0s 488us/step - loss: 0.0059 - accuracy: 0.9979\n",
      "Epoch 19/50\n",
      "406/406 [==============================] - 0s 483us/step - loss: 0.0058 - accuracy: 0.9979\n",
      "Epoch 20/50\n",
      "406/406 [==============================] - 0s 483us/step - loss: 0.0059 - accuracy: 0.9979\n",
      "Epoch 21/50\n",
      "406/406 [==============================] - 0s 483us/step - loss: 0.0058 - accuracy: 0.9979\n",
      "Epoch 22/50\n",
      "406/406 [==============================] - 0s 483us/step - loss: 0.0055 - accuracy: 0.9979\n",
      "Epoch 23/50\n",
      "406/406 [==============================] - 0s 483us/step - loss: 0.0061 - accuracy: 0.9979\n",
      "Epoch 24/50\n",
      "406/406 [==============================] - 0s 483us/step - loss: 0.0057 - accuracy: 0.9979\n",
      "Epoch 25/50\n",
      "406/406 [==============================] - 0s 483us/step - loss: 0.0054 - accuracy: 0.9979\n",
      "Epoch 26/50\n",
      "406/406 [==============================] - 0s 483us/step - loss: 0.0057 - accuracy: 0.9979\n",
      "Epoch 27/50\n",
      "406/406 [==============================] - 0s 485us/step - loss: 0.0055 - accuracy: 0.9979\n",
      "Epoch 28/50\n",
      "406/406 [==============================] - 0s 483us/step - loss: 0.0054 - accuracy: 0.9979\n",
      "Epoch 29/50\n",
      "406/406 [==============================] - 0s 497us/step - loss: 0.0061 - accuracy: 0.9979\n",
      "Epoch 30/50\n",
      "406/406 [==============================] - 0s 495us/step - loss: 0.0057 - accuracy: 0.9979\n",
      "Epoch 31/50\n",
      "406/406 [==============================] - 0s 483us/step - loss: 0.0053 - accuracy: 0.9979\n",
      "Epoch 32/50\n",
      "406/406 [==============================] - 0s 483us/step - loss: 0.0054 - accuracy: 0.9979\n",
      "Epoch 33/50\n",
      "406/406 [==============================] - 0s 483us/step - loss: 0.0058 - accuracy: 0.9979\n",
      "Epoch 34/50\n",
      "406/406 [==============================] - 0s 485us/step - loss: 0.0060 - accuracy: 0.9979\n",
      "Epoch 35/50\n",
      "406/406 [==============================] - 0s 483us/step - loss: 0.0056 - accuracy: 0.9979\n",
      "Epoch 36/50\n",
      "406/406 [==============================] - 0s 485us/step - loss: 0.0055 - accuracy: 0.9979\n",
      "Epoch 37/50\n",
      "406/406 [==============================] - 0s 478us/step - loss: 0.0053 - accuracy: 0.9979\n",
      "Epoch 38/50\n",
      "406/406 [==============================] - 0s 490us/step - loss: 0.0051 - accuracy: 0.9979\n",
      "Epoch 39/50\n",
      "406/406 [==============================] - 0s 493us/step - loss: 0.0056 - accuracy: 0.9979\n",
      "Epoch 40/50\n",
      "406/406 [==============================] - 0s 483us/step - loss: 0.0056 - accuracy: 0.9979\n",
      "Epoch 41/50\n",
      "406/406 [==============================] - 0s 482us/step - loss: 0.0052 - accuracy: 0.9979\n",
      "Epoch 42/50\n",
      "406/406 [==============================] - 0s 485us/step - loss: 0.0052 - accuracy: 0.9979\n",
      "Epoch 43/50\n",
      "406/406 [==============================] - 0s 483us/step - loss: 0.0053 - accuracy: 0.9979\n",
      "Epoch 44/50\n",
      "406/406 [==============================] - 0s 483us/step - loss: 0.0050 - accuracy: 0.9979\n",
      "Epoch 45/50\n",
      "406/406 [==============================] - 0s 483us/step - loss: 0.0051 - accuracy: 0.9979\n",
      "Epoch 46/50\n",
      "406/406 [==============================] - 0s 485us/step - loss: 0.0049 - accuracy: 0.9979\n",
      "Epoch 47/50\n",
      "406/406 [==============================] - 0s 485us/step - loss: 0.0055 - accuracy: 0.9979\n",
      "Epoch 48/50\n",
      "406/406 [==============================] - 0s 490us/step - loss: 0.0052 - accuracy: 0.9979\n",
      "Epoch 49/50\n",
      "406/406 [==============================] - 0s 485us/step - loss: 0.0051 - accuracy: 0.9979\n",
      "Epoch 50/50\n",
      "406/406 [==============================] - 0s 485us/step - loss: 0.0054 - accuracy: 0.9979\n"
     ]
    }
   ],
   "source": [
    "# Fit the model using 50 epochs and the training data\n",
    "fit_model = nn.fit(X_train_scaled, y_train, epochs=50)"
   ]
  },
  {
   "cell_type": "code",
   "execution_count": 195,
   "metadata": {},
   "outputs": [
    {
     "name": "stdout",
     "output_type": "stream",
     "text": [
      "136/136 - 0s - loss: 0.0072 - accuracy: 0.9975 - 105ms/epoch - 769us/step\n",
      "Loss: 0.007187374867498875, Accuracy: 0.9974554777145386\n"
     ]
    }
   ],
   "source": [
    "# Evaluate the model loss and accuracy metrics using the evaluate method and the test data\n",
    "model_loss, model_accuracy = nn.evaluate(X_test_scaled,y_test,verbose=2)\n",
    "\n",
    "# Display the model loss and accuracy results\n",
    "print(f\"Loss: {model_loss}, Accuracy: {model_accuracy}\")"
   ]
  },
  {
   "cell_type": "code",
   "execution_count": 196,
   "metadata": {},
   "outputs": [
    {
     "data": {
      "text/plain": [
       "array([[2.8229246e-07],\n",
       "       [4.5401750e-05],\n",
       "       [4.0995181e-03],\n",
       "       [1.3686419e-03],\n",
       "       [4.5746997e-06]], dtype=float32)"
      ]
     },
     "execution_count": 196,
     "metadata": {},
     "output_type": "execute_result"
    }
   ],
   "source": [
    "yp = nn.predict(X_test_scaled)\n",
    "yp[:5]"
   ]
  },
  {
   "cell_type": "code",
   "execution_count": 197,
   "metadata": {},
   "outputs": [],
   "source": [
    "y_pred = []\n",
    "for element in yp:\n",
    "    if element > 0.5:\n",
    "        y_pred.append(1)\n",
    "    else:\n",
    "        y_pred.append(0)"
   ]
  },
  {
   "cell_type": "code",
   "execution_count": 198,
   "metadata": {},
   "outputs": [
    {
     "name": "stdout",
     "output_type": "stream",
     "text": [
      "              precision    recall  f1-score   support\n",
      "\n",
      "         0.0       1.00      1.00      1.00      4312\n",
      "         1.0       0.00      0.00      0.00        11\n",
      "\n",
      "    accuracy                           1.00      4323\n",
      "   macro avg       0.50      0.50      0.50      4323\n",
      "weighted avg       0.99      1.00      1.00      4323\n",
      "\n"
     ]
    },
    {
     "name": "stderr",
     "output_type": "stream",
     "text": [
      "C:\\ProgramData\\Anaconda3\\lib\\site-packages\\sklearn\\metrics\\_classification.py:1248: UndefinedMetricWarning: Precision and F-score are ill-defined and being set to 0.0 in labels with no predicted samples. Use `zero_division` parameter to control this behavior.\n",
      "  _warn_prf(average, modifier, msg_start, len(result))\n",
      "C:\\ProgramData\\Anaconda3\\lib\\site-packages\\sklearn\\metrics\\_classification.py:1248: UndefinedMetricWarning: Precision and F-score are ill-defined and being set to 0.0 in labels with no predicted samples. Use `zero_division` parameter to control this behavior.\n",
      "  _warn_prf(average, modifier, msg_start, len(result))\n",
      "C:\\ProgramData\\Anaconda3\\lib\\site-packages\\sklearn\\metrics\\_classification.py:1248: UndefinedMetricWarning: Precision and F-score are ill-defined and being set to 0.0 in labels with no predicted samples. Use `zero_division` parameter to control this behavior.\n",
      "  _warn_prf(average, modifier, msg_start, len(result))\n"
     ]
    }
   ],
   "source": [
    "print(classification_report(y_test,y_pred))"
   ]
  },
  {
   "cell_type": "code",
   "execution_count": 199,
   "metadata": {},
   "outputs": [
    {
     "data": {
      "text/plain": [
       "Text(69.0, 0.5, 'Truth')"
      ]
     },
     "execution_count": 199,
     "metadata": {},
     "output_type": "execute_result"
    },
    {
     "data": {
      "image/png": "[encoded data removed]",
      "text/plain": [
       "<Figure size 720x504 with 2 Axes>"
      ]
     },
     "metadata": {
      "needs_background": "light"
     },
     "output_type": "display_data"
    }
   ],
   "source": [
    "cm = tf.math.confusion_matrix(labels=y_test,predictions=y_pred)\n",
    "\n",
    "plt.figure(figsize = (10,7))\n",
    "sns.heatmap(cm, annot=True, fmt='d',cmap=\"YlGnBu\")\n",
    "plt.xlabel('Predicted')\n",
    "plt.ylabel('Truth')"
   ]
  },
  {
   "cell_type": "code",
   "execution_count": null,
   "metadata": {},
   "outputs": [],
   "source": []
  }
 ],
 "metadata": {
  "kernelspec": {
   "display_name": "Python 3 (ipykernel)",
   "language": "python",
   "name": "python3"
  },
  "language_info": {
   "codemirror_mode": {
    "name": "ipython",
    "version": 3
   },
   "file_extension": ".py",
   "mimetype": "text/x-python",
   "name": "python",
   "nbconvert_exporter": "python",
   "pygments_lexer": "ipython3",
   "version": "3.9.7"
  }
 },
 "nbformat": 4,
 "nbformat_minor": 4
}
